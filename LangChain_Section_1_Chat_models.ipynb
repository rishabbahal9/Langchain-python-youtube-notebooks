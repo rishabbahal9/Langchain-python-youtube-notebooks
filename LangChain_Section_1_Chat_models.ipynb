{
  "nbformat": 4,
  "nbformat_minor": 0,
  "metadata": {
    "colab": {
      "provenance": [],
      "collapsed_sections": [
        "l_kE7v9BbukK",
        "EY3kfc_BYy3O",
        "DbcQ9jxjjMko",
        "-tbzN5IVkyOy",
        "B-cNeJQ-p6v4",
        "9q81bS62rcuA",
        "P_YOu12grfiL",
        "l0hrg8Y4zzoL"
      ]
    },
    "kernelspec": {
      "name": "python3",
      "display_name": "Python 3"
    },
    "language_info": {
      "name": "python"
    }
  },
  "cells": [
    {
      "cell_type": "markdown",
      "source": [
        "## Environment setup"
      ],
      "metadata": {
        "id": "l_kE7v9BbukK"
      }
    },
    {
      "cell_type": "code",
      "source": [
        "import getpass\n",
        "import os\n",
        "\n",
        "os.environ[\"LANGCHAIN_TRACING_V2\"] = \"true\"\n",
        "os.environ[\"LANGCHAIN_ENDPOINT\"]=\"https://api.smith.langchain.com\"\n",
        "os.environ[\"LANGCHAIN_API_KEY\"] = getpass.getpass()\n",
        "os.environ[\"LANGCHAIN_PROJECT\"] = \"LangChain tutorial\""
      ],
      "metadata": {
        "id": "vJ25pg7Jb6pj",
        "colab": {
          "base_uri": "https://localhost:8080/"
        },
        "outputId": "22ab44f2-81f6-4324-f25e-cdd69a2dd2ef"
      },
      "execution_count": null,
      "outputs": [
        {
          "name": "stdout",
          "output_type": "stream",
          "text": [
            "··········\n"
          ]
        }
      ]
    },
    {
      "cell_type": "markdown",
      "source": [
        "## Selecting language models"
      ],
      "metadata": {
        "id": "EY3kfc_BYy3O"
      }
    },
    {
      "cell_type": "markdown",
      "source": [
        "### OpenAI"
      ],
      "metadata": {
        "id": "DbcQ9jxjjMko"
      }
    },
    {
      "cell_type": "code",
      "source": [
        "pip install -qU langchain-openai"
      ],
      "metadata": {
        "id": "O45fVJuXYRd6"
      },
      "execution_count": null,
      "outputs": []
    },
    {
      "cell_type": "code",
      "source": [
        "pip install --upgrade \"httpx<0.28\""
      ],
      "metadata": {
        "id": "ugwY5U14YYr-",
        "colab": {
          "base_uri": "https://localhost:8080/"
        },
        "outputId": "d579e7b6-1922-4a47-d046-37dda3441f84"
      },
      "execution_count": null,
      "outputs": [
        {
          "output_type": "stream",
          "name": "stdout",
          "text": [
            "Requirement already satisfied: httpx<0.28 in /usr/local/lib/python3.10/dist-packages (0.27.2)\n",
            "Requirement already satisfied: anyio in /usr/local/lib/python3.10/dist-packages (from httpx<0.28) (3.7.1)\n",
            "Requirement already satisfied: certifi in /usr/local/lib/python3.10/dist-packages (from httpx<0.28) (2024.8.30)\n",
            "Requirement already satisfied: httpcore==1.* in /usr/local/lib/python3.10/dist-packages (from httpx<0.28) (1.0.7)\n",
            "Requirement already satisfied: idna in /usr/local/lib/python3.10/dist-packages (from httpx<0.28) (3.10)\n",
            "Requirement already satisfied: sniffio in /usr/local/lib/python3.10/dist-packages (from httpx<0.28) (1.3.1)\n",
            "Requirement already satisfied: h11<0.15,>=0.13 in /usr/local/lib/python3.10/dist-packages (from httpcore==1.*->httpx<0.28) (0.14.0)\n",
            "Requirement already satisfied: exceptiongroup in /usr/local/lib/python3.10/dist-packages (from anyio->httpx<0.28) (1.2.2)\n"
          ]
        }
      ]
    },
    {
      "cell_type": "code",
      "source": [
        "import getpass\n",
        "import os\n",
        "\n",
        "os.environ[\"OPENAI_API_KEY\"] = getpass.getpass()"
      ],
      "metadata": {
        "id": "x7k2DFjWMOmf",
        "colab": {
          "base_uri": "https://localhost:8080/"
        },
        "outputId": "41dd2271-79de-4aa4-bdf4-f3502e67f358"
      },
      "execution_count": null,
      "outputs": [
        {
          "name": "stdout",
          "output_type": "stream",
          "text": [
            "··········\n"
          ]
        }
      ]
    },
    {
      "cell_type": "code",
      "source": [
        "from langchain_openai import ChatOpenAI\n",
        "\n",
        "model = ChatOpenAI(model=\"gpt-4o-mini\")"
      ],
      "metadata": {
        "id": "VqNVgJildJHs"
      },
      "execution_count": null,
      "outputs": []
    },
    {
      "cell_type": "markdown",
      "source": [
        "### Mistral AI"
      ],
      "metadata": {
        "id": "-tbzN5IVkyOy"
      }
    },
    {
      "cell_type": "code",
      "source": [
        "pip install -qU langchain-mistralai"
      ],
      "metadata": {
        "id": "5patknJLk0sc"
      },
      "execution_count": null,
      "outputs": []
    },
    {
      "cell_type": "code",
      "source": [
        "pip install --upgrade \"httpx<0.28\""
      ],
      "metadata": {
        "id": "Xq2AJDzJMUFB",
        "colab": {
          "base_uri": "https://localhost:8080/"
        },
        "outputId": "01970eb0-6b52-49bf-c44a-ba23d269e7bb"
      },
      "execution_count": null,
      "outputs": [
        {
          "output_type": "stream",
          "name": "stdout",
          "text": [
            "Requirement already satisfied: httpx<0.28 in /usr/local/lib/python3.10/dist-packages (0.27.2)\n",
            "Requirement already satisfied: anyio in /usr/local/lib/python3.10/dist-packages (from httpx<0.28) (3.7.1)\n",
            "Requirement already satisfied: certifi in /usr/local/lib/python3.10/dist-packages (from httpx<0.28) (2024.8.30)\n",
            "Requirement already satisfied: httpcore==1.* in /usr/local/lib/python3.10/dist-packages (from httpx<0.28) (1.0.7)\n",
            "Requirement already satisfied: idna in /usr/local/lib/python3.10/dist-packages (from httpx<0.28) (3.10)\n",
            "Requirement already satisfied: sniffio in /usr/local/lib/python3.10/dist-packages (from httpx<0.28) (1.3.1)\n",
            "Requirement already satisfied: h11<0.15,>=0.13 in /usr/local/lib/python3.10/dist-packages (from httpcore==1.*->httpx<0.28) (0.14.0)\n",
            "Requirement already satisfied: exceptiongroup in /usr/local/lib/python3.10/dist-packages (from anyio->httpx<0.28) (1.2.2)\n"
          ]
        }
      ]
    },
    {
      "cell_type": "code",
      "source": [
        "import getpass\n",
        "import os\n",
        "\n",
        "os.environ[\"MISTRAL_API_KEY\"] = getpass.getpass()"
      ],
      "metadata": {
        "id": "1zlyjiEbMQ_q",
        "colab": {
          "base_uri": "https://localhost:8080/"
        },
        "outputId": "a86da47d-8f68-4f41-b402-7ca4fc6febfe"
      },
      "execution_count": null,
      "outputs": [
        {
          "name": "stdout",
          "output_type": "stream",
          "text": [
            "··········\n"
          ]
        }
      ]
    },
    {
      "cell_type": "code",
      "source": [
        "from langchain_mistralai import ChatMistralAI\n",
        "\n",
        "model = ChatMistralAI(model=\"mistral-large-latest\")"
      ],
      "metadata": {
        "id": "oEkoqQVHk8_U"
      },
      "execution_count": null,
      "outputs": []
    },
    {
      "cell_type": "markdown",
      "source": [
        "## Querying LLM"
      ],
      "metadata": {
        "id": "B-cNeJQ-p6v4"
      }
    },
    {
      "cell_type": "markdown",
      "source": [
        "### Normal response"
      ],
      "metadata": {
        "id": "9q81bS62rcuA"
      }
    },
    {
      "cell_type": "code",
      "source": [
        "from langchain_core.messages import HumanMessage, SystemMessage\n",
        "\n",
        "messages = [\n",
        "    SystemMessage(\"\"\"You are a travel agent. You operate in North America and Europe only.\n",
        "    Help in best possible way, but say sorry and no to anyone who asks for help outside the area you operate.\"\"\"),\n",
        "    HumanMessage(\"Plan a 3 day trip to Chicago\"),\n",
        "]\n",
        "\n",
        "response=model.invoke(messages)\n",
        "print(response.content)"
      ],
      "metadata": {
        "id": "EWrJbedidxz6",
        "collapsed": true,
        "colab": {
          "base_uri": "https://localhost:8080/"
        },
        "outputId": "3d852585-6f7d-45bd-b6c5-e6b5c62d2bea"
      },
      "execution_count": null,
      "outputs": [
        {
          "output_type": "stream",
          "name": "stdout",
          "text": [
            "I'd be happy to help you plan a 3-day trip to Chicago! Here's a suggested itinerary:\n",
            "\n",
            "**Day 1: Explore Downtown & Loop**\n",
            "\n",
            "*Morning:*\n",
            "- Start your day at **Millennium Park** and take a selfie at the famous Cloud Gate (The Bean) sculpture.\n",
            "- Walk to the **Art Institute of Chicago** (10:30 AM opening) and explore its impressive collection.\n",
            "\n",
            "*Afternoon:*\n",
            "- Grab lunch at **Xoco** by Rick Bayless for delicious Mexican street food.\n",
            "- Take a stroll along the **Chicago Riverwalk**.\n",
            "\n",
            "*Evening:*\n",
            "- Enjoy a deep-dish pizza dinner at **Lou Malnati's Pizzeria**.\n",
            "- Attend a performance at the **Chicago Theatre** or **Goodman Theatre** (if schedule allows).\n",
            "\n",
            "**Day 2: Museums & Skyline Views**\n",
            "\n",
            "*Morning:*\n",
            "- Visit the **Shedd Aquarium** (opens at 9 AM) and explore its fascinating underwater world.\n",
            "\n",
            "*Afternoon:*\n",
            "- Head next door to the **Field Museum** and meet SUE, the world's most complete Tyrannosaurus rex.\n",
            "- Grab a late lunch at **Revival Food Hall**, offering a variety of food stalls.\n",
            "\n",
            "*Evening:*\n",
            "- Enjoy breathtaking views of the city from the **Skydeck Chicago** at Willis Tower.\n",
            "- Have dinner at **Girl & the Goat** for an unforgettable culinary experience.\n",
            "\n",
            "**Day 3: Neighborhoods & Shopping**\n",
            "\n",
            "*Morning:*\n",
            "- Head to **Wicker Park** and explore its vibrant murals, independent boutiques, and coffee shops.\n",
            "\n",
            "*Afternoon:*\n",
            "- Visit **Wrigley Field** in Wrigleyville and, if possible, catch a Cubs game or take a guided tour.\n",
            "- Stroll along **Michigan Avenue** and **The Magnificent Mile** for shopping and people-watching.\n",
            "\n",
            "*Evening:*\n",
            "- Enjoy your final dinner in Chicago at **Giordano's** for another deep-dish pizza experience or try **Portillo's Hot Dogs & Barnelli's Pasta Bowl** for a local fast-casual option.\n",
            "- Take an **architecture river cruise** to admire Chicago's stunning skyline one last time.\n",
            "\n",
            "**Transportation Tip:** Consider getting a **Ventra Card** or a **CTA Pass** for easy public transportation access during your stay.\n",
            "\n",
            "**Trip Add-ons:**\n",
            "- If you're interested in sports, check the schedules for the Chicago Bulls (NBA), Chicago Blackhawks (NHL), Chicago Bears (NFL), or Chicago White Sox/Cubs (MLB) to catch a game during your visit.\n",
            "- For art lovers, explore the **Museum of Contemporary Art Chicago** or the **National Museum of Mexican Art**.\n",
            "- If you enjoy comedy, check out **The Second City** or **iO Theater** for improv shows.\n"
          ]
        }
      ]
    },
    {
      "cell_type": "markdown",
      "source": [
        "### Streaming response"
      ],
      "metadata": {
        "id": "P_YOu12grfiL"
      }
    },
    {
      "cell_type": "code",
      "source": [
        "from langchain_core.messages import HumanMessage, SystemMessage\n",
        "\n",
        "messages = [\n",
        "    SystemMessage(\"\"\"You are a travel agent. You operate in North America and Europe only.\n",
        "    Help in best possible way, but say sorry and no to anyone who asks for help outside the area you operate.\"\"\"),\n",
        "    HumanMessage(\"Plan a 3 day trip to Chicago\"),\n",
        "]\n",
        "\n",
        "#response=model.stream(messages)\n",
        "#print(response.content)\n",
        "for token in model.stream(messages):\n",
        "    print(token.content, end=\"\")"
      ],
      "metadata": {
        "id": "c_94HXaFrGUr",
        "colab": {
          "base_uri": "https://localhost:8080/"
        },
        "outputId": "79b2d90c-2bd9-49ac-dc06-10e456e8f5c5"
      },
      "execution_count": null,
      "outputs": [
        {
          "output_type": "stream",
          "name": "stdout",
          "text": [
            "Sure! Here’s a suggested 3-day itinerary for your trip to Chicago:\n",
            "\n",
            "### Day 1: Explore Downtown and the Riverfront\n",
            "- **Morning:** Start your day with breakfast at a local favorite, Lou Mitchell's. Afterward, take a stroll along the Chicago Riverwalk to enjoy the views.\n",
            "- **Midday:** Visit the Art Institute of Chicago, home to an impressive collection of art. Grab lunch at one of the nearby eateries such as The Gage, known for its delicious pub fare.\n",
            "- **Afternoon:** Explore Millennium Park, where you can see the iconic Cloud Gate (The Bean) and the Crown Fountain. Don’t forget to take some photos!\n",
            "- **Evening:** Enjoy dinner at a deep-dish pizza place like Giordano's or Lou Malnati's. After dinner, you could catch a show at the Chicago Theatre or a blues performance at a local club.\n",
            "\n",
            "### Day 2: Museums and Navy Pier\n",
            "- **Morning:** Have breakfast at Wildberry Pancakes and Cafe. Then head to the Field Museum to learn about natural history.\n",
            "- **Midday:** Visit the Shedd Aquarium, located right next to the Field Museum. Grab a quick lunch at their café or nearby.\n",
            "- **Afternoon:** Head to the Adler Planetarium for stunning views of the city skyline. Spend some time exploring the exhibits.\n",
            "- **Evening:** Head to Navy Pier for dinner at one of the restaurants there, like Riva Crabhouse. Enjoy the rides and attractions, and if it’s summer, catch a fireworks show.\n",
            "\n",
            "### Day 3: Neighborhoods and Culture\n",
            "- **Morning:** Start with breakfast in Lincoln Park at the popular Toast. Afterward, visit the Lincoln Park Zoo, which is free to enter.\n",
            "- **Midday:** Explore the nearby Lincoln Park Conservatory before heading to Wicker Park for lunch at a trendy café or eatery.\n",
            "- **Afternoon:** Wander through Wicker Park and check out local boutiques and shops. If you’re interested in history, visit the Frank Lloyd Wright Home and Studio in Oak Park (a short train ride away).\n",
            "- **Evening:** For your last night, enjoy dinner in the West Loop, famous for its dining scene. You could try a restaurant like Girl & The Goat. After dinner, consider visiting a rooftop bar for a nightcap and a view of the city skyline.\n",
            "\n",
            "### Tips:\n",
            "- Consider getting a Chicago CityPASS for discounts on multiple attractions.\n",
            "- Use public transportation (like the 'L' train) to get around easily.\n",
            "- Check the weather and dress accordingly, as it can change quickly in Chicago.\n",
            "\n",
            "Enjoy your trip! If you need more information or assistance, feel free to ask!"
          ]
        }
      ]
    },
    {
      "cell_type": "markdown",
      "source": [
        "# Prompt Templates"
      ],
      "metadata": {
        "id": "l0hrg8Y4zzoL"
      }
    },
    {
      "cell_type": "code",
      "source": [
        "from langchain_core.prompts import ChatPromptTemplate\n",
        "\n",
        "system_template = \"\"\"You are a travel agent. You operate in {region} only.\n",
        "    Help in best possible way, but say sorry and no to anyone who asks for help outside the area you operate.\"\"\"\n",
        "user_template = \"Plan a {days} day trip to {city}\"\n",
        "\n",
        "prompt_template = ChatPromptTemplate.from_messages(\n",
        "    [(\"system\", system_template), (\"user\", user_template)]\n",
        ")"
      ],
      "metadata": {
        "id": "uEdCk69jzzoM"
      },
      "execution_count": null,
      "outputs": []
    },
    {
      "cell_type": "code",
      "source": [
        "prompt = prompt_template.invoke({\"region\": \"Europe\", \"days\": 5, \"city\": \"Berlin\"})\n",
        "print(prompt)"
      ],
      "metadata": {
        "id": "zrdkdxkxueyg",
        "colab": {
          "base_uri": "https://localhost:8080/"
        },
        "outputId": "dc065b07-a28f-4fb7-bd79-21817bc51568"
      },
      "execution_count": null,
      "outputs": [
        {
          "output_type": "stream",
          "name": "stdout",
          "text": [
            "messages=[SystemMessage(content='You are a travel agent. You operate in Europe only.\\n    Help in best possible way, but say sorry and no to anyone who asks for help outside the area you operate.', additional_kwargs={}, response_metadata={}), HumanMessage(content='Plan a 5 day trip to Berlin', additional_kwargs={}, response_metadata={})]\n"
          ]
        }
      ]
    },
    {
      "cell_type": "code",
      "source": [
        "response = model.invoke(prompt)\n",
        "print(response.content)"
      ],
      "metadata": {
        "colab": {
          "base_uri": "https://localhost:8080/"
        },
        "id": "ZVcTOuzQzzoN",
        "outputId": "46991e70-c0cc-493c-c9fa-7ca5b6693e44"
      },
      "execution_count": null,
      "outputs": [
        {
          "output_type": "stream",
          "name": "stdout",
          "text": [
            "I'd be delighted to help you plan a 9-day trip to Tokyo, Japan! Here's a suggested itinerary that covers popular districts, historical sites, food destinations, and day trips.\n",
            "\n",
            "**Day 1: Arrival & Shibuya**\n",
            "- Arrive at Narita/Haneda Airport and transfer to your hotel.\n",
            "- Explore Shibuya: Visit the famous Shibuya Crossing, Hachiko statue, and Ichiran Ramen for dinner.\n",
            "\n",
            "**Day 2: Western Tokyo**\n",
            "- Morning: Visit Meiji Shrine and Harajuku. Explore Takeshita Street and try out unique street food.\n",
            "- Afternoon: Head to Shinjuku – visit the Metropolitan Government Building for panoramic city views, explore Golden Gai and Omoide Yokocho.\n",
            "- Evening: Experience the vibrant nightlife in Kabukicho.\n",
            "\n",
            "**Day 3: Eastern Tokyo**\n",
            "- Morning: Visit Asakusa – explore Senso-ji Temple and Nakamise Shopping Street.\n",
            "- Afternoon: Walk around the historic Akihabara district, famous for electronics, anime, and maid cafes.\n",
            "- Evening: Explore Ueno Park and visit Ameya-Yokocho for street food.\n",
            "\n",
            "**Day 4: Tsukiji & Odaiba**\n",
            "- Morning: Visit Tsukiji Fish Market. Explore the outer market and have sushi for lunch.\n",
            "- Afternoon: Head to Odaiba – visit teamLab Borderless digital art museum, DiverCity Tokyo Plaza, and VenusFort.\n",
            "- Evening: Enjoy the illuminations and views of Rainbow Bridge and Tokyo Tower.\n",
            "\n",
            "**Day 5: Day trip – Nikko**\n",
            "- Take a day trip to Nikko, a UNESCO World Heritage site. Visit Toshogu Shrine, Rinnoji Temple, and Shinkyo Bridge.\n",
            "- *Note: The round trip will take approximately 4 hours.*\n",
            "\n",
            "**Day 6: Day trip – Kamakura & Enoshima**\n",
            "- Morning: Visit Kamakura – see the Great Buddha (Daibutsu) at Kotokuin Temple, Hase-dera Temple, and Tsurugaoka Hachimangu Shrine.\n",
            "- Afternoon: Head to Enoshima – explore the island, visit Enoshima Shrine, and enjoy the beach.\n",
            "\n",
            "**Day 7: Ginza & Roppongi**\n",
            "- Morning: Explore Ginza district – high-end shopping, cafes, and architecture.\n",
            "- Afternoon: Head to Roppongi – visit Tokyo City View, Mori Art Museum, and explore the Izumi Garden.\n",
            "- Evening: Nightlife in Roppongi Hills.\n",
            "\n",
            "**Day 8: Disneyland or DisneySea**\n",
            "- Spend the day at either Tokyo Disneyland or Tokyo DisneySea.\n",
            "\n",
            "**Day 9: Last-minute shopping & Departure**\n",
            "- Morning: Explore any remaining districts or do last-minute shopping.\n",
            "- Afternoon: Transfer to Narita/Haneda Airport for your departure.\n",
            "\n",
            "**Transportation Tip:** Consider getting a Suica or Pasmo IC card for easy payments on public transportation. If you plan to visit many attractions, look into getting a Grutt Pass or Tokyo Subway Ticket.\n",
            "\n",
            "I apologize, but I can only assist with travel within Asia.\n"
          ]
        }
      ]
    }
  ]
}