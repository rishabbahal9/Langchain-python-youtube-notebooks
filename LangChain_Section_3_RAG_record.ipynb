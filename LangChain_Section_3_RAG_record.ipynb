{
  "nbformat": 4,
  "nbformat_minor": 0,
  "metadata": {
    "colab": {
      "provenance": []
    },
    "kernelspec": {
      "name": "python3",
      "display_name": "Python 3"
    },
    "language_info": {
      "name": "python"
    }
  },
  "cells": [
    {
      "cell_type": "markdown",
      "source": [
        "# RAG"
      ],
      "metadata": {
        "id": "Gkwb-TmW-SmF"
      }
    },
    {
      "cell_type": "code",
      "source": [
        "query=\"Who was Guiseppe Mazzini?\"\n",
        "# query=\"Covid 19\""
      ],
      "metadata": {
        "id": "msgGM8dqZDIA"
      },
      "execution_count": 29,
      "outputs": []
    },
    {
      "cell_type": "markdown",
      "source": [
        "## Environment setup"
      ],
      "metadata": {
        "id": "nl7cytE__CG_"
      }
    },
    {
      "cell_type": "code",
      "execution_count": 1,
      "metadata": {
        "colab": {
          "base_uri": "https://localhost:8080/"
        },
        "collapsed": true,
        "id": "0ZfKmxyz9yGW",
        "outputId": "e38e04cb-dce3-4f57-87df-e28774ec0815"
      },
      "outputs": [
        {
          "output_type": "stream",
          "name": "stdout",
          "text": [
            "Requirement already satisfied: langchain in /usr/local/lib/python3.10/dist-packages (0.3.12)\n",
            "Collecting langchain-openai\n",
            "  Downloading langchain_openai-0.2.14-py3-none-any.whl.metadata (2.7 kB)\n",
            "Collecting langchain-community\n",
            "  Downloading langchain_community-0.3.14-py3-none-any.whl.metadata (2.9 kB)\n",
            "Collecting pypdf\n",
            "  Downloading pypdf-5.1.0-py3-none-any.whl.metadata (7.2 kB)\n",
            "Requirement already satisfied: PyYAML>=5.3 in /usr/local/lib/python3.10/dist-packages (from langchain) (6.0.2)\n",
            "Requirement already satisfied: SQLAlchemy<3,>=1.4 in /usr/local/lib/python3.10/dist-packages (from langchain) (2.0.36)\n",
            "Requirement already satisfied: aiohttp<4.0.0,>=3.8.3 in /usr/local/lib/python3.10/dist-packages (from langchain) (3.11.10)\n",
            "Requirement already satisfied: async-timeout<5.0.0,>=4.0.0 in /usr/local/lib/python3.10/dist-packages (from langchain) (4.0.3)\n",
            "Requirement already satisfied: langchain-core<0.4.0,>=0.3.25 in /usr/local/lib/python3.10/dist-packages (from langchain) (0.3.25)\n",
            "Requirement already satisfied: langchain-text-splitters<0.4.0,>=0.3.3 in /usr/local/lib/python3.10/dist-packages (from langchain) (0.3.3)\n",
            "Requirement already satisfied: langsmith<0.3,>=0.1.17 in /usr/local/lib/python3.10/dist-packages (from langchain) (0.2.3)\n",
            "Requirement already satisfied: numpy<2,>=1.22.4 in /usr/local/lib/python3.10/dist-packages (from langchain) (1.26.4)\n",
            "Requirement already satisfied: pydantic<3.0.0,>=2.7.4 in /usr/local/lib/python3.10/dist-packages (from langchain) (2.10.3)\n",
            "Requirement already satisfied: requests<3,>=2 in /usr/local/lib/python3.10/dist-packages (from langchain) (2.32.3)\n",
            "Requirement already satisfied: tenacity!=8.4.0,<10,>=8.1.0 in /usr/local/lib/python3.10/dist-packages (from langchain) (9.0.0)\n",
            "Collecting langchain-core<0.4.0,>=0.3.25 (from langchain)\n",
            "  Downloading langchain_core-0.3.29-py3-none-any.whl.metadata (6.3 kB)\n",
            "Collecting openai<2.0.0,>=1.58.1 (from langchain-openai)\n",
            "  Downloading openai-1.59.3-py3-none-any.whl.metadata (27 kB)\n",
            "Collecting tiktoken<1,>=0.7 (from langchain-openai)\n",
            "  Downloading tiktoken-0.8.0-cp310-cp310-manylinux_2_17_x86_64.manylinux2014_x86_64.whl.metadata (6.6 kB)\n",
            "Collecting dataclasses-json<0.7,>=0.5.7 (from langchain-community)\n",
            "  Downloading dataclasses_json-0.6.7-py3-none-any.whl.metadata (25 kB)\n",
            "Collecting httpx-sse<0.5.0,>=0.4.0 (from langchain-community)\n",
            "  Downloading httpx_sse-0.4.0-py3-none-any.whl.metadata (9.0 kB)\n",
            "Collecting langchain\n",
            "  Downloading langchain-0.3.14-py3-none-any.whl.metadata (7.1 kB)\n",
            "Collecting pydantic-settings<3.0.0,>=2.4.0 (from langchain-community)\n",
            "  Downloading pydantic_settings-2.7.1-py3-none-any.whl.metadata (3.5 kB)\n",
            "Requirement already satisfied: typing_extensions>=4.0 in /usr/local/lib/python3.10/dist-packages (from pypdf) (4.12.2)\n",
            "Requirement already satisfied: aiohappyeyeballs>=2.3.0 in /usr/local/lib/python3.10/dist-packages (from aiohttp<4.0.0,>=3.8.3->langchain) (2.4.4)\n",
            "Requirement already satisfied: aiosignal>=1.1.2 in /usr/local/lib/python3.10/dist-packages (from aiohttp<4.0.0,>=3.8.3->langchain) (1.3.2)\n",
            "Requirement already satisfied: attrs>=17.3.0 in /usr/local/lib/python3.10/dist-packages (from aiohttp<4.0.0,>=3.8.3->langchain) (24.3.0)\n",
            "Requirement already satisfied: frozenlist>=1.1.1 in /usr/local/lib/python3.10/dist-packages (from aiohttp<4.0.0,>=3.8.3->langchain) (1.5.0)\n",
            "Requirement already satisfied: multidict<7.0,>=4.5 in /usr/local/lib/python3.10/dist-packages (from aiohttp<4.0.0,>=3.8.3->langchain) (6.1.0)\n",
            "Requirement already satisfied: propcache>=0.2.0 in /usr/local/lib/python3.10/dist-packages (from aiohttp<4.0.0,>=3.8.3->langchain) (0.2.1)\n",
            "Requirement already satisfied: yarl<2.0,>=1.17.0 in /usr/local/lib/python3.10/dist-packages (from aiohttp<4.0.0,>=3.8.3->langchain) (1.18.3)\n",
            "Collecting marshmallow<4.0.0,>=3.18.0 (from dataclasses-json<0.7,>=0.5.7->langchain-community)\n",
            "  Downloading marshmallow-3.24.0-py3-none-any.whl.metadata (7.1 kB)\n",
            "Collecting typing-inspect<1,>=0.4.0 (from dataclasses-json<0.7,>=0.5.7->langchain-community)\n",
            "  Downloading typing_inspect-0.9.0-py3-none-any.whl.metadata (1.5 kB)\n",
            "Requirement already satisfied: jsonpatch<2.0,>=1.33 in /usr/local/lib/python3.10/dist-packages (from langchain-core<0.4.0,>=0.3.25->langchain) (1.33)\n",
            "Requirement already satisfied: packaging<25,>=23.2 in /usr/local/lib/python3.10/dist-packages (from langchain-core<0.4.0,>=0.3.25->langchain) (24.2)\n",
            "Requirement already satisfied: httpx<1,>=0.23.0 in /usr/local/lib/python3.10/dist-packages (from langsmith<0.3,>=0.1.17->langchain) (0.28.1)\n",
            "Requirement already satisfied: orjson<4.0.0,>=3.9.14 in /usr/local/lib/python3.10/dist-packages (from langsmith<0.3,>=0.1.17->langchain) (3.10.12)\n",
            "Requirement already satisfied: requests-toolbelt<2.0.0,>=1.0.0 in /usr/local/lib/python3.10/dist-packages (from langsmith<0.3,>=0.1.17->langchain) (1.0.0)\n",
            "Requirement already satisfied: anyio<5,>=3.5.0 in /usr/local/lib/python3.10/dist-packages (from openai<2.0.0,>=1.58.1->langchain-openai) (3.7.1)\n",
            "Requirement already satisfied: distro<2,>=1.7.0 in /usr/local/lib/python3.10/dist-packages (from openai<2.0.0,>=1.58.1->langchain-openai) (1.9.0)\n",
            "Requirement already satisfied: jiter<1,>=0.4.0 in /usr/local/lib/python3.10/dist-packages (from openai<2.0.0,>=1.58.1->langchain-openai) (0.8.2)\n",
            "Requirement already satisfied: sniffio in /usr/local/lib/python3.10/dist-packages (from openai<2.0.0,>=1.58.1->langchain-openai) (1.3.1)\n",
            "Requirement already satisfied: tqdm>4 in /usr/local/lib/python3.10/dist-packages (from openai<2.0.0,>=1.58.1->langchain-openai) (4.67.1)\n",
            "Requirement already satisfied: annotated-types>=0.6.0 in /usr/local/lib/python3.10/dist-packages (from pydantic<3.0.0,>=2.7.4->langchain) (0.7.0)\n",
            "Requirement already satisfied: pydantic-core==2.27.1 in /usr/local/lib/python3.10/dist-packages (from pydantic<3.0.0,>=2.7.4->langchain) (2.27.1)\n",
            "Collecting python-dotenv>=0.21.0 (from pydantic-settings<3.0.0,>=2.4.0->langchain-community)\n",
            "  Downloading python_dotenv-1.0.1-py3-none-any.whl.metadata (23 kB)\n",
            "Requirement already satisfied: charset-normalizer<4,>=2 in /usr/local/lib/python3.10/dist-packages (from requests<3,>=2->langchain) (3.4.0)\n",
            "Requirement already satisfied: idna<4,>=2.5 in /usr/local/lib/python3.10/dist-packages (from requests<3,>=2->langchain) (3.10)\n",
            "Requirement already satisfied: urllib3<3,>=1.21.1 in /usr/local/lib/python3.10/dist-packages (from requests<3,>=2->langchain) (2.2.3)\n",
            "Requirement already satisfied: certifi>=2017.4.17 in /usr/local/lib/python3.10/dist-packages (from requests<3,>=2->langchain) (2024.12.14)\n",
            "Requirement already satisfied: greenlet!=0.4.17 in /usr/local/lib/python3.10/dist-packages (from SQLAlchemy<3,>=1.4->langchain) (3.1.1)\n",
            "Requirement already satisfied: regex>=2022.1.18 in /usr/local/lib/python3.10/dist-packages (from tiktoken<1,>=0.7->langchain-openai) (2024.11.6)\n",
            "Requirement already satisfied: exceptiongroup in /usr/local/lib/python3.10/dist-packages (from anyio<5,>=3.5.0->openai<2.0.0,>=1.58.1->langchain-openai) (1.2.2)\n",
            "Requirement already satisfied: httpcore==1.* in /usr/local/lib/python3.10/dist-packages (from httpx<1,>=0.23.0->langsmith<0.3,>=0.1.17->langchain) (1.0.7)\n",
            "Requirement already satisfied: h11<0.15,>=0.13 in /usr/local/lib/python3.10/dist-packages (from httpcore==1.*->httpx<1,>=0.23.0->langsmith<0.3,>=0.1.17->langchain) (0.14.0)\n",
            "Requirement already satisfied: jsonpointer>=1.9 in /usr/local/lib/python3.10/dist-packages (from jsonpatch<2.0,>=1.33->langchain-core<0.4.0,>=0.3.25->langchain) (3.0.0)\n",
            "Collecting mypy-extensions>=0.3.0 (from typing-inspect<1,>=0.4.0->dataclasses-json<0.7,>=0.5.7->langchain-community)\n",
            "  Downloading mypy_extensions-1.0.0-py3-none-any.whl.metadata (1.1 kB)\n",
            "Downloading langchain_openai-0.2.14-py3-none-any.whl (50 kB)\n",
            "\u001b[2K   \u001b[90m━━━━━━━━━━━━━━━━━━━━━━━━━━━━━━━━━━━━━━━━\u001b[0m \u001b[32m50.9/50.9 kB\u001b[0m \u001b[31m3.9 MB/s\u001b[0m eta \u001b[36m0:00:00\u001b[0m\n",
            "\u001b[?25hDownloading langchain_community-0.3.14-py3-none-any.whl (2.5 MB)\n",
            "\u001b[2K   \u001b[90m━━━━━━━━━━━━━━━━━━━━━━━━━━━━━━━━━━━━━━━━\u001b[0m \u001b[32m2.5/2.5 MB\u001b[0m \u001b[31m34.5 MB/s\u001b[0m eta \u001b[36m0:00:00\u001b[0m\n",
            "\u001b[?25hDownloading langchain-0.3.14-py3-none-any.whl (1.0 MB)\n",
            "\u001b[2K   \u001b[90m━━━━━━━━━━━━━━━━━━━━━━━━━━━━━━━━━━━━━━━━\u001b[0m \u001b[32m1.0/1.0 MB\u001b[0m \u001b[31m43.0 MB/s\u001b[0m eta \u001b[36m0:00:00\u001b[0m\n",
            "\u001b[?25hDownloading pypdf-5.1.0-py3-none-any.whl (297 kB)\n",
            "\u001b[2K   \u001b[90m━━━━━━━━━━━━━━━━━━━━━━━━━━━━━━━━━━━━━━━━\u001b[0m \u001b[32m298.0/298.0 kB\u001b[0m \u001b[31m20.9 MB/s\u001b[0m eta \u001b[36m0:00:00\u001b[0m\n",
            "\u001b[?25hDownloading dataclasses_json-0.6.7-py3-none-any.whl (28 kB)\n",
            "Downloading httpx_sse-0.4.0-py3-none-any.whl (7.8 kB)\n",
            "Downloading langchain_core-0.3.29-py3-none-any.whl (411 kB)\n",
            "\u001b[2K   \u001b[90m━━━━━━━━━━━━━━━━━━━━━━━━━━━━━━━━━━━━━━━━\u001b[0m \u001b[32m411.6/411.6 kB\u001b[0m \u001b[31m27.4 MB/s\u001b[0m eta \u001b[36m0:00:00\u001b[0m\n",
            "\u001b[?25hDownloading openai-1.59.3-py3-none-any.whl (454 kB)\n",
            "\u001b[2K   \u001b[90m━━━━━━━━━━━━━━━━━━━━━━━━━━━━━━━━━━━━━━━━\u001b[0m \u001b[32m454.8/454.8 kB\u001b[0m \u001b[31m23.0 MB/s\u001b[0m eta \u001b[36m0:00:00\u001b[0m\n",
            "\u001b[?25hDownloading pydantic_settings-2.7.1-py3-none-any.whl (29 kB)\n",
            "Downloading tiktoken-0.8.0-cp310-cp310-manylinux_2_17_x86_64.manylinux2014_x86_64.whl (1.2 MB)\n",
            "\u001b[2K   \u001b[90m━━━━━━━━━━━━━━━━━━━━━━━━━━━━━━━━━━━━━━━━\u001b[0m \u001b[32m1.2/1.2 MB\u001b[0m \u001b[31m51.0 MB/s\u001b[0m eta \u001b[36m0:00:00\u001b[0m\n",
            "\u001b[?25hDownloading marshmallow-3.24.0-py3-none-any.whl (49 kB)\n",
            "\u001b[2K   \u001b[90m━━━━━━━━━━━━━━━━━━━━━━━━━━━━━━━━━━━━━━━━\u001b[0m \u001b[32m49.3/49.3 kB\u001b[0m \u001b[31m3.7 MB/s\u001b[0m eta \u001b[36m0:00:00\u001b[0m\n",
            "\u001b[?25hDownloading python_dotenv-1.0.1-py3-none-any.whl (19 kB)\n",
            "Downloading typing_inspect-0.9.0-py3-none-any.whl (8.8 kB)\n",
            "Downloading mypy_extensions-1.0.0-py3-none-any.whl (4.7 kB)\n",
            "Installing collected packages: python-dotenv, pypdf, mypy-extensions, marshmallow, httpx-sse, typing-inspect, tiktoken, pydantic-settings, openai, dataclasses-json, langchain-core, langchain-openai, langchain, langchain-community\n",
            "  Attempting uninstall: openai\n",
            "    Found existing installation: openai 1.57.4\n",
            "    Uninstalling openai-1.57.4:\n",
            "      Successfully uninstalled openai-1.57.4\n",
            "  Attempting uninstall: langchain-core\n",
            "    Found existing installation: langchain-core 0.3.25\n",
            "    Uninstalling langchain-core-0.3.25:\n",
            "      Successfully uninstalled langchain-core-0.3.25\n",
            "  Attempting uninstall: langchain\n",
            "    Found existing installation: langchain 0.3.12\n",
            "    Uninstalling langchain-0.3.12:\n",
            "      Successfully uninstalled langchain-0.3.12\n",
            "Successfully installed dataclasses-json-0.6.7 httpx-sse-0.4.0 langchain-0.3.14 langchain-community-0.3.14 langchain-core-0.3.29 langchain-openai-0.2.14 marshmallow-3.24.0 mypy-extensions-1.0.0 openai-1.59.3 pydantic-settings-2.7.1 pypdf-5.1.0 python-dotenv-1.0.1 tiktoken-0.8.0 typing-inspect-0.9.0\n"
          ]
        }
      ],
      "source": [
        "pip install langchain langchain-openai langchain-community pypdf"
      ]
    },
    {
      "cell_type": "code",
      "source": [
        "import os\n",
        "import getpass\n",
        "\n",
        "os.environ[\"OPENAI_API_KEY\"] = getpass.getpass()\n",
        "\n",
        "from langchain_openai import ChatOpenAI\n",
        "\n",
        "model = ChatOpenAI(model=\"gpt-4o\")"
      ],
      "metadata": {
        "id": "lobCD8u8ZMJr",
        "colab": {
          "base_uri": "https://localhost:8080/"
        },
        "outputId": "76c03db5-348a-4345-c90e-c97526037c5d"
      },
      "execution_count": 2,
      "outputs": [
        {
          "name": "stdout",
          "output_type": "stream",
          "text": [
            "··········\n"
          ]
        }
      ]
    },
    {
      "cell_type": "markdown",
      "source": [
        "## Ingestion"
      ],
      "metadata": {
        "id": "PLV9oGovAmlT"
      }
    },
    {
      "cell_type": "markdown",
      "source": [
        "### Loading documents"
      ],
      "metadata": {
        "id": "F6wNzDPQAou2"
      }
    },
    {
      "cell_type": "code",
      "source": [
        "from langchain_community.document_loaders import PyPDFLoader\n",
        "\n",
        "file_path = \"jess301.pdf\"\n",
        "loader = PyPDFLoader(file_path)\n",
        "docs = loader.load()\n",
        "\n",
        "print(len(docs))\n",
        "docs"
      ],
      "metadata": {
        "colab": {
          "base_uri": "https://localhost:8080/"
        },
        "id": "NE3fveNRAr_P",
        "outputId": "be86e9a5-e388-4945-9c84-d7141252994a",
        "collapsed": true
      },
      "execution_count": 3,
      "outputs": [
        {
          "output_type": "stream",
          "name": "stdout",
          "text": [
            "28\n"
          ]
        },
        {
          "output_type": "execute_result",
          "data": {
            "text/plain": [
              "[Document(metadata={'source': 'jess301.pdf', 'page': 0}, page_content='EVENTS AND PROCESSES\\nSECTION I\\n2024-25\\n'),\n",
              " Document(metadata={'source': 'jess301.pdf', 'page': 1}, page_content='2024-25\\n'),\n",
              " Document(metadata={'source': 'jess301.pdf', 'page': 2}, page_content='3\\nNationalism   in    Europe\\nIn 1848, Frédéric Sorrieu, a French artist, prepared a series of four\\nprints visualising his dream of a world made up of ‘democratic\\nand social Republics’, as he called them. The first print (Fig. 1) of the\\nseries, shows the peoples of Europe and America – men and women\\nof all ages and social classes – marching in a long train, and offering\\nhomage to the statue of Liberty as they pass by it. As you would\\nrecall, artists of the time of the French Revolution personified Liberty\\nas a female figure – here you can recognise the torch of Enlightenment\\nshe bears in one hand and the Charter of the Rights of Man in the\\nother. On the earth in the foreground of the image lie the shattered\\nremains of  the symbols of  absolutist institutions. In Sor rieu’s\\nutopian vision, the peoples of the world are grouped as distinct\\nnations, identified through their flags and national costume. Leading\\nthe procession, way past the statue of Liberty, are the United States\\nand Switzerland, which by this time were already nation-states. France,\\nThe   Rise   of   Nationalism   in  Eur ope\\nFig. 1 —  The Dream of Worldwide Democratic and Social Republics – The Pact Between Nations, a print prepared by\\nFrédéric Sorrieu, 1848.\\nChapter IThe Rise of Nationalism in Europe\\nNew words\\nAbsolutist – Liter ally, a government or\\nsystem of rule that has no restraints on\\nthe power exercised. In history, the term\\nr\\nefer s to a for m of  monar chical\\ngovernment that was centralised,\\nmilitarised and repressive\\nUtopian – A vision of a society that is so\\nideal that it is unlikely to actually exist\\nIn what way do you think this print (Fig. 1)\\ndepicts a utopian vision?\\nActivity\\n2024-25\\n'),\n",
              " Document(metadata={'source': 'jess301.pdf', 'page': 3}, page_content='India and the Contemporary World\\n4\\nidentifiable by the revolutionary tricolour, has just reached the statue.\\nShe is followed by the peoples of Germany, bearing the black, red\\nand gold flag. Interestingly, at the time when Sorrieu created this\\nimage, the German peoples did not yet exist as a united nation – the\\nflag they carry is an expression of liberal hopes in 1848 to unify the\\nnumerous German-speaking principalities into a nation-state under\\na democratic constitution. Following the German peoples are the\\npeoples of Austria, the Kingdom of the Two Sicilies, Lombardy,\\nPoland, England, Ireland, Hungary and Russia. From the heavens\\nabove, Christ, saints and angels gaze upon the scene. They have\\nbeen used by the artist to symbolise fraternity among the nations of\\nthe world.\\nThis chapter will deal with many of the issues visualised by Sorrieu\\nin Fig. 1. During the nineteenth century, nationalism emerged as a\\nforce which brought about sweeping changes in the political and\\nmental world of Europe. The end result of these changes was the\\nemergence of the nation-state in place of the multi-national dynastic\\nempires of Europe. The concept and practices of a modern state, in\\nwhich a centralised power exercised sovereign control over a clearly\\ndefined territory, had been developing over a long period of time\\nin Europe. But a nation-state was one in which the majority of its\\ncitizens, and not only its rulers, came to develop a sense of common\\nidentity and shared history or descent. This commonness did not\\nexist from time immemorial; it was forged through struggles, through\\nthe actions of leaders and the common people. This chapter will\\nlook at the diverse processes through which nation-states and\\nnationalism came into being in nineteenth-century Europe.\\nErnst Renan, ‘What is a Nation?’\\nIn a lecture delivered at the University of\\nSorbonne in 1882, the French philosopher Ernst\\nRenan (1823-92) outlined his understanding of\\nwhat makes a nation. The lecture  was\\nsubsequently published as a famous essay entitled\\n‘Qu’est-ce qu’une nation?’ (‘What is a Nation?’).\\nIn this essay Renan criticises the notion suggested\\nby others that a nation is formed by a common\\nlanguage, race, religion, or territory:\\n‘A nation is the culmination of a long past of\\nendeavours, sacrifice and devotion. A heroic past,\\ngreat men, glory, that is the social capi tal upon\\nwhich one bases a national idea. T o ha ve\\ncommon glories in the past, to have a common\\nwill in the present, to have performed great deeds\\ntogether, to wish to perf orm sti ll mor e, these\\nare the essential conditions of being a people. A\\nnation is therefore a large-scale solidarity … Its\\nexistence is a daily plebiscite … A province is its\\ninhabitants; if anyone has the right to be\\nconsulted, it is the inhabitant. A nation never\\nhas any real interest in annexing or holding on to\\na country against its will. The existence of nations\\nis a good thing, a necessity even. Their existence\\nis a guarantee of l iberty, which would be lost i f\\nthe world had only one law and only one master.’\\nSource\\nSource A\\nSummarise the attributes of a nation, as Renan\\nunderstands them. Why, in his view , are nations\\nimportant?\\nDiscuss\\nNew words\\nPlebiscite – A direct vote by which all the\\npeople of a region are asked to accept or reject\\na proposal\\n2024-25\\n'),\n",
              " Document(metadata={'source': 'jess301.pdf', 'page': 4}, page_content='5\\nNationalism   in    Europe\\n1  The French Revolution and the Idea of the Nation\\nThe first clear expression of nationalism came with\\nthe French Revolution in 1789. France, as you\\nwould remember, was a full-fledged territorial state\\nin 1789 under the rule of an absolute monarch.\\nThe political and constitutional changes that came\\nin the wake of the French Revolution led to the\\ntransfer of sovereignty from the monarchy to a\\nbody of French citizens. The revolution proclaimed\\nthat it was the people who would henceforth\\nconstitute the nation and shape its destiny\\n.\\nFrom the very beginning, the French revolutionaries\\nintroduced various measures and practices that\\ncould create a sense of collective identity amongst\\nthe French people. The ideas of la patrie  (the\\nfatherland) and le citoyen (the citizen) emphasised\\nthe notion of a united community enjoying equal rights under a\\nconstitution. A new French flag, the tricolour,   was chosen to replace\\nthe former royal standard. The Estates General  was elected by the\\nbody of active citizens and renamed the National Assembly. New\\nhymns were composed, oaths taken and martyrs commemorated,\\nall in the name of the nation. A centralised administrative system\\nwas put in place and it f ormulated uniform laws for all citizens\\nwithin its territory. Internal customs duties and dues were abolished\\nand a unif orm system of  weights and measur es was adopted.\\nRegional dialects were discouraged and French, as it was spoken\\nand written in Paris, became the common language of the nation.\\nThe revolutionaries further declared that it was the mission and the\\ndestiny of the French nation to liberate the peoples of Europe\\nfrom despotism, in other words to help other peoples of Europe\\nto become nations.\\nWhen the news of the events in France reached the different cities\\nof Europe, students and other members of educated middle classes\\nbegan setting up J acobin clubs. Their activities and campaigns\\nprepared the way for the French armies which moved into Holland,\\nBelgium, Switzerland and much of  Italy in the 1790s. With the\\noutbreak of  the revolutionary wars, the French armies began to\\ncarry the idea of nationalism abroad.\\nFig. 2 — The cover of a German almanac\\ndesigned by the journalist Andreas Rebmann in\\n1798.\\nThe image of the French Bastille being stormed\\nby the revolutionary crowd has been placed\\nnext to a similar fortress meant to represent the\\nbastion of despotic rule in the German province\\nof Kassel. Accompanying the illustration is the\\nslogan: ‘The people must seize their own\\nfreedom!’ Rebmann lived in the  city of Mainz\\nand was  a member of a German Jacobin group.\\n2024-25\\n'),\n",
              " Document(metadata={'source': 'jess301.pdf', 'page': 5}, page_content='India and the Contemporary World\\n6\\nWithin the wide swathe of territory that came under his control,\\nNapoleon set about introducing many of the reforms that he had\\nalready introduced in France. Through a return to monarchy\\nNapoleon had, no doubt, destroyed democracy in France, but in\\nthe administrative field he had incorporated revolutionary principles\\nin order to make the whole system more rational and efficient. The\\nCivil Code of 1804 – usually known as the Napoleonic Code –\\ndid away with all privileges based on birth, established  equality\\nbefore the law and secured  the right to property. This Code was\\nexported to the regions under French control. In the Dutch Republic,\\nin Switz erland, in Ital y and Ger many, Na poleon simplif ied\\nadministrative divisions, abolished the feudal system and freed\\npeasants from serfdom and manorial dues. In the towns too, guild\\nrestrictions were removed. Transport and communication systems\\nwere improved. Peasants, artisans, workers and new businessmen\\nFig. 3 —  Europe after the\\nCongress of Vienna, 1815.\\nICELAND\\n(DENMARK)\\nNORWAY\\n(SWEDEN)\\nSWEDEN\\nDENMARK\\nHABOVER\\n(G.B.)\\nNETHERLANDS\\nENGLAND\\nWALES\\nIRELAND GREAT\\nBRITAIN\\nSCOTLAND\\nFRANCE\\nSPAIN\\nPORTUGAL\\nMOROCCO ALGERIA\\nTUNIS\\nEGYPT\\nPALESTINE\\nSYRIA\\nCYPRUS\\nMESOPOTAMIA\\nARMENIA\\nOTTOMAN EMPIRE\\nCRETE\\nGREECE\\nBULGARIA\\nROMANIA\\nSERBIA\\nHUNGARY\\nAUSTRIAN EMPIRE\\nAUSTRIA\\nGALICIA\\nBAVARIA\\nSWITZERLAND\\nPRUSSIA\\nPOLAND\\nRUSSIAN EMPIRE\\nSARDINIA\\nCORSICA\\nSMALL\\nSTATES\\nKINGDOM\\nOF  THE\\nTWO\\nSICILIES\\nGEORGIA\\nPERSIA\\nMEDITERRANEAN SEA\\nATLANTIC  SEA\\n2024-25\\n'),\n",
              " Document(metadata={'source': 'jess301.pdf', 'page': 6}, page_content='7\\nNationalism   in    Europe\\nenjoyed a new-found freedom. Businessmen and small-scale\\nproducers of  goods, in particular, began to realise that uniform\\nlaws, standardised weights and measures, and a common national\\ncurrency would facilitate the movement and exchange of goods\\nand capital from one region to another.\\nHowever, in the areas conquered, the reactions of the local\\npopulations to French rule were mixed. Initially, in many places such\\nas Holland and Switzerland, as well as in certain cities like Brussels,\\nMainz, Milan and Warsaw, the French armies were welcomed as\\nharbingers of liberty. But the initial enthusiasm soon turned to hostility,\\nas it became clear that the new administrative arrangements did not\\ngo hand in hand with political freedom. Increased taxation,\\ncensorship, forced conscription into the French armies required to\\nconquer the rest of Europe, all seemed to outweigh the advantages\\nof the administrative changes.\\nFig. 4 — The Planting of Tree of Liberty in Zweibrücken, Germany.\\nThe subject of this colour print by the German painter Karl Kaspar Fritz is the occupation of the town of Zweibrücken\\nby the French armies. French soldiers, recognisable by their blue, white and red uniforms, have been portrayed as\\noppressors as they seize a peasant’s cart (left), harass some young women (centre foreground) and force a peasant\\ndown to his knees. The plaque being affixed to the Tree of Liberty carries a German inscription which in translation\\nreads: ‘Take freedom and equality from us, the model of humanity.’ This is a sarcastic reference to the claim of the\\nFrench as being liberators who opposed monarchy in the territories they entered.\\nFig. 5 —  The courier of Rhineland loses all that\\nhe has on his way home from Leipzig.\\nNapoleon here is represented as a postman on\\nhis way back to France after he lost the battle of\\nLeipzig in 1813. Each letter dropping out of his\\nbag bears the names of the territories he lost.\\n2024-25\\n'),\n",
              " Document(metadata={'source': 'jess301.pdf', 'page': 7}, page_content='India and the Contemporary World\\n8\\nIf you look at the map of mid-eighteenth-century Europe you will\\nfind that there were no ‘nation-states’ as we know them today.\\nWhat we know today as Ger many\\n, Italy and Switz erland were\\ndivided into kingdoms, duchies and cantons whose rulers had their\\nautonomous territories. Eastern and Central Europe were under\\nautocratic monarchies within the territories of which lived diverse\\npeoples. They did not see themselves as sharing a collective identity\\nor a common culture. Often, they even spoke different languages\\nand belonged to different ethnic groups. The Habsburg Empire\\nthat ruled over Austria-Hungary, for example, was a patchwork of\\nmany different regions and peoples. It included the Alpine regions\\n– the Tyrol, Austria and the Sudetenland – as w ell as Bohemia,\\nwhere the aristocracy was predominantly German-speaking. It also\\nincluded the Italian-speaking provinces of Lombardy and Venetia.\\nIn Hungary, half of the population spoke Magyar while the other\\nhalf spoke a variety of dialects. In Galicia, the aristocracy spoke\\nPolish. Besides these three dominant groups, there also lived within\\nthe boundaries of the empire, a mass of subject peasant peoples –\\nBohemians and Slovaks to the north, Slovenes in Carniola, Croats\\nto the south, and R oumans to the east in Transylvania. Such\\ndifferences did not easily promote a sense of political unity. The\\nonly tie binding these diverse groups together was a common\\nallegiance to the emperor.\\nHow did nationalism and the idea of the nation-state emerge?\\n2.1 The Aristocracy and the New Middle Class\\nSocially and politically, a landed aristocracy was the dominant class\\non the continent. The members of this class were united by a\\ncommon way of life that cut across regional divisions. They owned\\nestates in the countryside and also town-houses.\\n They spoke French\\nfor purposes of diplomacy and in high society. Their families were\\noften connected by ties of marriage. This powerful aristocracy was,\\nhowever, numerically a small group. The majority of the population\\nwas made up of the peasantry. To the west, the bulk of the land\\nwas farmed by tenants and small o wners, while in Eastern and\\nCentral Europe the pattern of landholding was characterised by\\nvast estates which were cultivated by serfs.\\n2  The Making of Nationalism in Europe\\nSome important dates\\n1797\\nNapoleon invades Italy; Napoleonic wars\\nbegin.\\n1814-1815\\nFall of Napoleon; the Vienna Peace\\nSettlement.\\n1821\\nGreek struggle for independence begins.\\n1848\\nRevolutions in Europe; artisans, industrial\\nworkers and peasants revolt against\\neconomic hardships; middle classes\\ndemand constitutions and representative\\ngovernments; Italians, Germans, Magyars,\\nPoles, Czechs, etc. demand nation-states.\\n1859-1870\\n Unification of Italy.\\n1866-1871\\nUnification of Germany.\\n1905\\nSlav nationalism gathers force in the\\nHabsburg and Ottoman Empires.\\n2024-25\\n'),\n",
              " Document(metadata={'source': 'jess301.pdf', 'page': 8}, page_content='9\\nNationalism   in    Europe\\nIn Western and parts of Central Europe the growth of industrial\\nproduction and trade meant the growth of towns and the emergence\\nof commercial classes whose existence was based on production\\nfor the market. Industrialisation began in England in the second\\nhalf of the eighteenth century, but in France and parts of the German\\nstates it occurred only during the nineteenth century. In its wake,\\nnew social groups came into being: a working-class population, and\\nmiddle classes made up of industrialists, businessmen, professionals.\\nIn Central and Eastern Europe these groups were smaller in number\\ntill late nineteenth century. It was among the educated, liberal middle\\nclasses that ideas of national unity following the abolition of\\naristocratic privileges gained popularity.\\n2.2 What did Liberal Nationalism Stand for?\\nIdeas of national unity in early-nineteenth-century Europe were closely\\nallied to the ideology of  liberalism. The term ‘liberalism’ derives\\nfrom the Latin root liber, meaning free. For the new middle classes\\nliberalism stood for freedom for the individual and equality of all\\nbefore the law . Politically, it emphasised the concept of go\\nvernment\\nby consent. Since the French Revolution, liberalism had stood for\\nthe end of autocracy and clerical privileges, a constitution and\\nrepresentative government through parliament. Nineteenth-century\\nliberals also stressed the inviolability of private property.\\nYet, equality before the law did not necessarily stand for universal\\nsuffrage. You will recall that in revolutionary France, which marked\\nthe first political experiment in liberal democracy, the right to vote\\nand to get elected was granted exclusively to property-owning men.\\nMen without property and all women were excluded from political\\nrights. Only for a brief period under the Jacobins did all adult males\\nenjoy suffrage. However, the Napoleonic Code went back to limited\\nsuffrage and reduced women to the status of a minor, subject to\\nthe authority of fathers and husbands. Throughout the nineteenth\\nand early twentieth centuries women and non-propertied men\\norganised opposition movements demanding equal political rights.\\nIn the economic sphere, liberalism stood for the freedom of markets\\nand the abolition of state-imposed restrictions on the movement\\nof goods and capital. During the nineteenth century this was a strong\\ndemand of the emerging middle classes. Let us take the example of\\nthe German-speaking regions in the first half  of  the nineteenth\\ncentury. Napoleon’s administrative measures had created out of\\nNew words\\nSuffrage – The right to vote\\n2024-25\\n'),\n",
              " Document(metadata={'source': 'jess301.pdf', 'page': 9}, page_content='India and the Contemporary World\\n10\\ncountless small principalities a confederation of 39 states. Each of\\nthese possessed its own currency, and weights and measures. A\\nmerchant travelling in 1833 from Hamburg to Nuremberg to sell\\nhis goods would have had to pass through 11 customs barriers and\\npay a customs duty of about 5 per cent at each one of them. Duties\\nwere often levied according to the weight or measurement of the\\ngoods. As each region had its own system of weights and measures,\\nthis involved time-consuming calculation. The measure of cloth,\\nfor example, was the elle  which in each region stood for a different\\nlength. An elle of textile material bought in Frankfurt would get you\\n54.7 cm of cloth, in Mainz 55.1 cm, in Nuremberg 65.6 cm, in\\nFreiburg 53.5 cm.\\nSuch conditions were viewed as obstacles to economic exchange\\nand growth by the new commercial classes, who argued for the\\ncreation of a unified economic territory allowing the unhindered\\nmovement of goods, people and capital.  In 1834, a customs union\\nor zollverein was formed at the initiative of  Prussia and joined by\\nmost of the German states. The union abolished tariff barriers and\\nreduced the number of  currencies from over thirty to two. The\\ncreation of  a netw ork of  r ailways fur ther stimulated mobility,\\nharnessing economic interests to national unification. A wave of\\neconomic nationalism strengthened the wider nationalist sentiments\\ngrowing at the time.\\n2.3 A New Conservatism after 1815\\nFollowing the defeat of Napoleon in 1815, European governments\\nwere driven by a spirit of conservatism. Conservatives believed\\nthat established, traditional institutions of state and society –  like the\\nmonarc\\nhy, the Church, social hierarchies, property and the family –\\nshould be preserved. Most conservatives, however, did not propose\\na return to the society of pre-revolutionary days. Rather, they realised,\\nfrom the changes initiated by Napoleon, that modernisation could\\nin fact strengthen traditional institutions like the monarchy. It could\\nmake  state  power more effective and strong. A modern army, an\\nefficient bureaucracy, a dynamic economy, the abolition of feudalism\\nand serfdom could strengthen the autocratic monarchies of Europe.\\nIn 1815, representatives of the European powers – Britain, Russia,\\nPrussia and Austria – who had collectively defeated Napoleon, met\\nat Vienna to draw up a settlement for Europe. The Congress was\\nhosted by the Austrian Chancellor Duke Metternich. The delegates\\nEconomists began to think in terms of the national\\neconomy. They talk ed of how the nation could\\ndevelop and what economic measures could help\\nforge this nation together .\\nFriedrich List, Professor of Economics at the\\nUniversity of Tübingen in Germany, wrote in 1834:\\n‘The aim of the zollverein is to bind the Germans\\neconomically into a nation. It will strengthen the\\nnation materially as much by protecting its\\ninterests externally as by stimulating its internal\\nproductivi ty. It ought to a waken and r aise\\nnational sentiment through a fusion of individual\\nand provincial interests. The German people have\\nrealised that a free economic system is the only\\nmeans to engender national feeling.’\\nSource\\nSource B\\nDescribe the political ends that List hopes to\\nachieve through economic measures.\\nDiscuss\\nNew words\\nConservatism – A political philosoph y that\\nstressed the importance of tradition, established\\ninstitutions and customs, and preferred gradual\\ndevelopment to quick change\\n2024-25\\n'),\n",
              " Document(metadata={'source': 'jess301.pdf', 'page': 10}, page_content='11\\nNationalism   in    Europe\\ndrew up the Treaty of Vienna of 1815 with the object of undoing\\nmost of the changes that had come about in Europe during the\\nNapoleonic wars. The Bourbon dynasty, which had been deposed\\nduring the French Revolution, was restored to power, and France\\nlost the territories it had annexed under Napoleon. A series of states\\nwere set up on the boundaries of France to prevent French expansion\\nin future. Thus the kingdom of the Netherlands, which included\\nBelgium, was set up in the north and Genoa was added to Piedmont\\nin the south. Prussia was given important new territories on its western\\nfrontiers, while Austria was given control of northern Italy. But the\\nGerman confederation of 39 states that had been set up by Napoleon\\nwas left untouched. In the east, Russia was given part of  Poland\\nwhile Prussia was given a portion of Saxony. The main intention\\nwas to restore the monarchies that had been overthrown by\\nNapoleon, and create a new conservative order in Europe.\\nConservative regimes set up in 1815 were autocratic. They did not\\ntolerate criticism and dissent, and sought to curb activities that\\nquestioned the legitimacy of autocratic governments.  Most of them\\nimposed censorship laws to control what was said in newspapers,\\nbooks, plays and songs and reflected the ideas of liberty and freedom\\nPlot on a map of Europe the changes drawn\\nup by the Vienna Congress.\\nActivity\\nFig. 6 — The Club of Thinkers, anonymous caricature dating to c. 1820.\\nThe plaque on the left bears the inscription: ‘The most important question of today’s meeting: How\\nlong will thinking be allowed to us?’\\nThe board on the right lists the rules of the Club which include the following:\\n‘1. Silence is the first commandment of this learned society.\\n2. To avoid the eventuality whereby a member of this club may succumb to the temptation of\\nspeech, muzzles will be distributed to members upon entering.’\\nWhat is the caricaturist trying to depict?\\nDiscuss\\n2024-25\\n'),\n",
              " Document(metadata={'source': 'jess301.pdf', 'page': 11}, page_content='India and the Contemporary World\\n12\\nassociated with the French Revolution. The memory of the French\\nRevolution nonetheless continued to inspire liberals. One of the major\\nissues taken up by the liberal-nationalists, who criticised the new\\nconservative order, was freedom of the press.\\n2.4 The Revolutionaries\\nDuring the years following 1815, the fear of repression drove\\nmany liberal-nationalists underground. Secret societies sprang\\nup in many European states to train revolutionaries and spread\\ntheir ideas. To be revolutionary at this time meant a commitment\\nto oppose monarchical forms that had been established after\\nthe Vienna Congress, and to fight for liberty and freedom. Most\\nof these revolutionaries also saw the creation of nation-states as\\na necessary part of this struggle for freedom.\\nOne such individual was the Italian revolutionary Giuseppe\\nMazzini. Born in Genoa in 1805, he became a member of the\\nsecret society of the Carbonari. As a young man of 24, he was\\nsent into exile in 1831 for attempting a revolution in Liguria.\\nHe subsequently founded two more underground societies,\\nfirst, Young Italy in Marseilles, and then, Young Europe in\\nBerne, whose members were like-minded young men from\\nPoland, France, Italy and the German states. Mazzini believed\\nthat God had intended nations to be the natural units of\\nmankind. So Italy could not continue to be a patchwork of\\nsmall states and kingdoms. It had to be forged into a single\\nunified republic within a wider alliance of nations. This\\nunification alone could be the basis of Italian liberty. Following\\nhis model, secret societies were set up in Germany, France,\\nSwitzerland and Poland. Mazzini’s relentless opposition to\\nmonarchy and his vision of democratic republics frightened the\\nconservatives.  Metternich described him as ‘the most dangerous\\nenemy of our social order’.\\nFig. 7 — Giuseppe Mazzini and the founding of\\nYoung Europe in Berne 1833.\\nPrint by Giacomo Mantegazza.\\n2024-25\\n'),\n",
              " Document(metadata={'source': 'jess301.pdf', 'page': 12}, page_content='13\\nNationalism   in    Europe\\n3  The Age of Revolutions: 1830-1848\\nAs conservative regimes tried to consolidate their power, liberalism\\nand nationalism came to be increasingly associated with revolution\\nin many regions of Eur\\nope such as the Italian and German states,\\nthe provinces of the Ottoman Empire, Ireland and Poland. These\\nrevolutions were led by the liberal-nationalists belonging to the\\neducated middle-class elite, among whom were professors, school-\\nteachers, clerks and members of the commercial middle classes.\\nThe first upheaval took place in France in July 1830.  The Bourbon\\nkings who had been r estored to power during the conser vative\\nreaction after 1815, were now overthrown by liberal revolutionaries\\nwho installed a constitutional monarchy with Louis Philippe at its\\nhead. ‘When France sneezes,’ Metternich once remarked, ‘the rest of\\nEurope catches cold.’  The July Revolution sparked an uprising in\\nBrussels which led to Belgium breaking away from the United\\nKingdom of the Netherlands.\\nAn event that mobilised nationalist feelings among the educated elite\\nacross Europe was the Greek war of independence. Greece had\\nbeen part of the Ottoman Empire since the fifteenth century. The\\ngrowth of revolutionary nationalism in Europe sparked off a struggle\\nfor independence amongst the Greeks which began in 1821.\\nNationalists in Greece got support from other Greeks living in exile\\nand also from many West Europeans who had sympathies for ancient\\nGreek culture. Poets and ar tists lauded Gr eece as the cr adle of\\nEuropean civilisation and mobilised public opinion to support its\\nstruggle against a Muslim empire. The English poet Lord Byron\\norganised funds and later went to fight in the war, where he died of\\nfever in 1824.  Finall y, the Treaty of  Constantinople of  1832\\nrecognised Greece as an independent nation.\\n3.1 The Romantic Imagination and National Feeling\\nThe development of nationalism did not come about only through\\nwars and territorial expansion. Culture played an important role in\\ncreating the idea of  the nation: art and poetry, stories and music\\nhelped express and shape nationalist feelings.\\nLet us look at Romanticism, a cultural movement which sought to\\ndevelop a particular form of nationalist sentiment. Romantic artists\\nand poets generally criticised the glorification of reason and science\\n2024-25\\n'),\n",
              " Document(metadata={'source': 'jess301.pdf', 'page': 13}, page_content='India and the Contemporary World\\n14\\nFig. 8 — The Massacre at Chios, Eugene Delacroix, 1824.\\nThe French painter Delacroix was one of the most important French Romantic\\npainters. This huge painting (4.19m x 3.54m) depicts an incident in which\\n20,000 Greeks were said to have been killed by Turks on the island of Chios. By\\ndramatising the incident, focusing on the suffering of women and children, and\\nusing vivid colours, Delacroix sought to appeal to the emotions of the spectators,\\nand create sympathy for the Greeks.\\nand focused instead on emotions, intuition and mystical feelings.\\nTheir effort was to create a sense of a shared collective heritage, a\\ncommon cultural past, as the basis of a nation.\\nOther Romantics such as the German philosopher Johann Gottfried\\nHerder (1744-1803) claimed that true German culture was to be\\ndiscovered among the common people – das volk. It was through\\nfolk songs, folk poetry and folk dances that the true spirit of the\\nnation (volksgeist) was popularised. So collecting and recording these\\nforms of folk culture was essential to the project of nation-building.\\n2024-25\\n'),\n",
              " Document(metadata={'source': 'jess301.pdf', 'page': 14}, page_content='15\\nNationalism   in    Europe\\nThe Grimm Brothers: Folktales and\\nNation-building\\nGrimms’ Fairy Tales is a familiar name. The brothers\\nJacob and Wilhelm Grimm were born in the\\nGerman city of Hanau in 1785 and 1786\\nrespectiv ely. Whi le both of them studied la w,\\nthey soon developed an interest in collecting old\\nfolktales. They spent six years travelling from\\nvillage to village, talking to people and writing\\ndown fairy tales, which were handed down\\nthrough the generations. These were popular\\nboth among children and adults. In 1812, they\\npublished their first collection of tales.\\nSubsequently, both the br others became activ e\\nin liberal politics, especially the movement\\nfor freedom of the press. In the meantime they\\nalso published a 33-volume dictionary of the\\nGerman language.\\nThe Grimm brothers also saw French domination\\nas a threat to German culture, and believed that\\nthe folktales they had collected were expressions\\nof a pure and authentic German spirit. They\\nconsidered their projects of collecting folktales\\nand developing the German language as part of\\nthe wider effort to oppose French domination\\nand create a German national identi ty.\\nThe emphasis on vernacular language and the collection of local\\nfolklore was not just to recover an ancient national spirit, but also to\\ncarry the modern nationalist message to large audiences who were\\nmostly illiterate.\\n This was especially so in the case of Poland, which\\nhad been partitioned at the end of the eighteenth century by the\\nGreat Powers – Russia, Prussia and Austria. Even though Poland no\\nlonger existed as an independent territory\\n, national feelings were kept\\nalive through music and language. Karol Kurpinski, for example,\\ncelebrated the national struggle through his operas and music, turning\\nfolk dances like the polonaise and mazurka into nationalist symbols.\\nLanguage too played an important role in developing nationalist\\nsentiments. After Russian occupation, the Polish language was forced\\nout of schools and the Russian language was imposed everywhere.\\nIn 1831, an armed rebellion against Russian rule took place which\\nwas ultimately crushed. Following this, many members of the clergy\\nin Poland began to use language as a weapon of national resistance.\\nPolish was used for Church gatherings and all religious instruction.\\nAs a result, a large number of priests and bishops were put in jail or\\nsent to Siberia by the Russian authorities as punishment for their\\nrefusal to preach in Russian. The use of Polish came to be seen as a\\nsymbol of the struggle against Russian dominance.\\n3.2 Hunger, Hardship and Popular Revolt\\nThe 1830s were years of great economic hardship in Europe. The\\nfirst half  of the nineteenth century saw an enormous increase in\\npopulation all over Europe. In most countries there were more\\nseekers of  jobs than emplo yment. Population from r ural areas\\nmigrated to the cities to live in overcrowded slums. Small producers\\nin towns were often faced with stiff competition from imports of\\ncheap machine-made goods from England, where industrialisation\\nwas more advanced than on the continent. This was especially so in\\ntextile production, which was carried out mainly in homes or small\\nworkshops and was only partly mechanised. In those regions of\\nEurope where the aristocracy still enjoyed power, peasants struggled\\nunder the burden of feudal dues and obligations.\\n The rise of food\\nprices or a year of  bad har vest led to widespr ead pauperism in\\ntown and country.\\nThe year 1848 was one such year. Food shortages and widespread\\nunemployment brought the population of Paris out on the roads.\\nBarricades were erected and Louis Philippe was forced to flee. A\\nDiscuss the importance of language and\\npopular traditions in the creation of national\\nidentity.\\nDiscuss\\nBox 1\\n2024-25\\n'),\n",
              " Document(metadata={'source': 'jess301.pdf', 'page': 15}, page_content='India and the Contemporary World\\n16\\nNational Assembly proclaimed a Republic, granted suffrage to all\\nadult males above 21, and guaranteed the right to work. National\\nworkshops to provide employment were set up.\\nEarlier, in 1845, weavers in Silesia had led a revolt against contractors\\nwho supplied them raw material and gave them orders for finished\\ntextiles but drastically reduced their payments. The journalist Wilhelm\\nWolff described the events in a Silesian village as follows:\\nIn these villages (with 18,000 inhabitants) cotton weaving is the\\nmost widespread occupation … The misery of the workers is\\nextreme. The desperate need for jobs has been taken advantage\\nof by the contractors to reduce the prices of the goods they\\norder …\\nOn 4 June at 2 p.m. a large crowd of weavers emerged from\\ntheir homes and marched in pairs up to the mansion of their\\ncontractor demanding higher wages. They were treated with\\nscorn and threats alternately. Following this, a group of them\\nforced their way into the house, smashed its elegant window-\\npanes, furniture, porcelain … another group broke into the\\nstorehouse and plundered it of supplies of cloth which they\\ntore to shreds … The contractor fled with his family to a\\nneighbouring village which, however, refused to shelter such a\\nperson. He returned 24 hours later having requisitioned the army.\\nIn the exchange that followed, eleven weavers were shot.\\nFig. 9 — Peasants’ uprising, 1848.\\nDescribe the cause of the Silesian weavers’\\nuprising. Comment on the viewpoint of the\\njournalist.\\nDiscuss\\nImagine you are a weaver who saw the events\\nas they unfolded. Write a report on what you saw.\\nActivity\\n2024-25\\n'),\n",
              " Document(metadata={'source': 'jess301.pdf', 'page': 16}, page_content='17\\nNationalism   in    Europe\\n3.3 1848: The Revolution of the Liberals\\nParallel to the revolts of the poor, unemployed and starving peasants\\nand workers in many European countries in the year 1848, a revolution\\nled by the educated middle classes was under way. Events of February\\n1848 in France had brought about the abdication of the monarch\\nand a republic based on universal male suffrage had been proclaimed.\\nIn other parts of Europe where independent nation-states did not\\ny\\net exist – such as Germany, Italy, Poland, the Austro-Hungarian\\nEmpire – men and women of the liberal middle classes combined\\ntheir demands for constitutionalism with national unification. They\\ntook advantage of the growing popular unrest to push their\\ndemands for the creation of a nation-state on parliamentary\\nprinciples – a constitution, freedom of the press and freedom\\nof association.\\nIn the German regions a large number of political associations whose\\nmembers were middle-class professionals, businessmen and\\nprosperous artisans came together in the city of Frankfurt and decided\\nto vote for an all-German National Assembly. On 18 May 1848,\\n831 elected representatives marched in a festive procession to take\\ntheir places in the Frankfurt parliament convened in the Church of\\nSt Paul. They drafted a constitution f or a Ger man nation to be\\nheaded by a monarchy subject to a parliament. When the deputies\\noffered the crown on these terms to Friedrich Wilhelm IV, King of\\nPrussia, he rejected it and joined other monarchs to oppose the\\nelected assembly\\n. While the opposition of the aristocracy and military\\nbecame stronger, the social basis of parliament eroded. The\\nparliament was dominated by the middle classes who resisted the\\ndemands of workers and artisans and consequently lost their support.\\nIn the end troops were called in and the assembly was forced\\nto disband.\\nThe issue of extending political rights to women was a controversial\\none within the liberal movement, in which large numbers of women\\nhad participated actively over the years. Women had formed their\\nown political associations, founded newspapers and taken part in\\npolitical meetings and demonstrations. Despite this they were denied\\nHow were liberty and equality for women\\nto be defined?\\nThe l iberal pol itician Carl W elcker, an elected\\nmember of the Frankfurt Parliament, expressed\\nthe following views:\\n‘Nature has created men and women to carry\\nout different f\\nunctions … Man, the str onger, the\\nbolder and freer of the two, has been designated\\nas protector of the family, its provider, meant for\\npublic tasks in the domain of law, production,\\ndefence. W oman, the weak er, dependent and\\ntimid, requires the protection of man. Her sphere\\nis the home, the care of the children, the\\nnurturing of the family … Do we require any\\nfurther proof that given such differences, equality\\nbetween the sexes would only endanger\\nharmony and destroy the dignity of the family?’\\nLouise Otto-Peters (1819-95) was a political\\nactivist who founded a women’s journal and\\nsubsequently a feminist political association. The\\nfirst issue of her newspaper (21 April 1849) carried\\nthe following editorial:\\n‘Let us ask how many men, possessed by\\nthoughts of living and dying for the sake of Liberty,\\nwould be prepared to fight for the freedom of\\nthe entire people, of all human beings? When\\nasked this question, they would all too easily\\nrespond wi th a “Y es!”, though their untiring\\nefforts are intended for the benefit of only one\\nhalf of humanity – men. But Liberty is indivisible!\\nFree men therefore must not tolerate to be\\nsurrounded b y the unf ree … ’\\nAn anonymous reader of the same newspaper\\nsent the following letter to the editor on 25 June\\n1850:\\n‘It is indeed ridiculous and unreasonable to deny\\nwomen political rights even though they enjoy\\nthe right to property which they make use\\nof. They perf orm f unctions and assume\\nresponsibilities without however getting the\\nbenefits that accrue to men for the same … Why\\nthis injustice? Is it not a disgrace that even the\\nstupidest cattle-herder possesses the right\\nto vote, simply because he is a man, whereas\\nhighly talented women owning considerable\\nproperty are excluded from this right, even\\nthough they contribute so much to the\\nmaintenance of the state?’Source\\nSource C\\nNew words\\nFeminist – Awareness of women’s rights and interests based on\\nthe belief of the social, economic and political equality of the genders\\n2024-25\\n'),\n",
              " Document(metadata={'source': 'jess301.pdf', 'page': 17}, page_content='India and the Contemporary World\\n18\\nFig. 10 — The Frankfurt parliament in the Church of St Paul.\\nContemporary colour print. Notice the women in the upper left gallery.\\nCompare the positions on the question of\\nwomen’s rights voiced by the three writers cited\\nabove. What do they reveal about liberal\\nideology?\\nDiscuss\\nNew words\\nIdeolo gy – System of  ideas r eflecting a\\nparticular social and political vision\\nsuffrage rights during the election of  the Assembly . When the\\nFrankfurt parliament convened in the Church of St Paul, women\\nwere admitted only as observers to stand in the visitors’ gallery.\\nThough conservative forces were able to suppress liberal movements\\nin 1848,  they could not r estore the old order . Monar chs were\\nbeginning to realise that the cycles of revolution and repression could\\nonly be ended by granting concessions to the liberal-nationalist\\nrevolutionaries. Hence , in the y ears after 1848,  the autocra tic\\nmonarchies of Central and Eastern Europe began to introduce the\\nchanges that had already taken place in Western Europe before 1815.\\nThus serfdom and bonded labour were abolished both in the\\nHabsburg dominions and in Russia. The Habsburg rulers granted\\nmore autonomy to the Hungarians in 1867.\\n2024-25\\n'),\n",
              " Document(metadata={'source': 'jess301.pdf', 'page': 18}, page_content='19\\nNationalism   in    Europe\\n4  The Making of Germany and Italy\\n4.1 Germany – Can the Army be the Architect of a Nation?\\nAfter 1848, nationalism in Europe moved away from its association\\nwith democracy and revolution. Nationalist sentiments were often\\nmobilised by conservatives for promoting state power and achieving\\npolitical domination over Europe.\\nThis can be observed in the process by which Germany and Italy came\\nto be unified as nation-states.\\n As you have seen, nationalist feelings were\\nwidespread among middle-class Germans, who in 1848 tried to unite\\nthe different regions of the German confederation into a nation-state\\ngoverned by an elected parliament. This liberal initiative to nation-building\\nwas, however, repressed by the combined forces of the monarchy and\\nthe military, supported by the large landowners (called Junkers) of Prussia.\\nFrom then on, Prussia took on the leadership of the movement for\\nnational unification. Its chief minister, Otto von\\nBismarck, was the architect of this process carried\\nout with the help of  the Pr ussian army and\\nbureaucracy. Three wars over seven years – with\\nAustria, Denmark and France – ended in Prussian\\nvictory and completed the process of unification.\\nIn January 1871, the Prussian king, William I,\\nwas proclaimed German Emperor in a ceremony\\nheld at Versailles.\\nOn the bitterly cold morning of 18 January 1871,\\nan assembly comprising the princes of the\\nGerman states, representatives of  the ar my,\\nimportant Prussian ministers including the chief\\nminister Otto von Bismarck gathered in the\\nunheated Hall of Mirrors in the Palace of Versailles\\nto proclaim the new German Empire headed\\nby Kaiser William I of Prussia.\\nThe nation-building process in Germany had\\ndemonstrated the dominance of Prussian state\\npower. The new state placed a strong emphasis\\non modernising the cur rency, banking, le gal\\nand judicial systems in Ger many. Pr ussian\\nmeasures and practices often became a model for\\nthe rest of Germany.\\nFig. 11 — The proclamation of the German empire in the Hall of\\nMirrors at Versailles, Anton von Werner. At the centre stands the\\nKaiser and the chief commander of the Prussian army, General von\\nRoon. Near them is Bismarck. This monumental work (2.7m x\\n2.7m) was completed and presented by the artist to Bismarck on\\nthe latter’s 70th birthday in 1885.\\n2024-25\\n'),\n",
              " Document(metadata={'source': 'jess301.pdf', 'page': 19}, page_content='India and the Contemporary World\\n20\\n4.2 Italy Unified\\nLike Germany, Italy too had a long history of political fragmentation.\\nItalians were scattered over several dynastic states as well as the\\nmulti-national Habsburg Empire. During the middle of the\\nnineteenth century, Italy was divided into seven sta\\ntes, of  which\\nonly one, Sardinia-Piedmont, was ruled by an Italian princely house.\\nThe north was under Austrian Habsburgs, the centre was ruled by\\nthe Pope and the souther n regions were under the domina tion\\nof the Bourbon kings of Spain. Even the Italian language had\\nnot acquired one common form and still had many regional and\\nlocal variations.\\nDuring the 1830s, Giuseppe Mazzini had sought to put together a\\ncoherent programme for a unitary Italian Republic. He had also\\nformed a secret society called Young Italy for the dissemination of\\nhis goals. The failure of revolutionary uprisings both in 1831 and\\n1848 meant that the mantle now fell on Sardinia-Piedmont under\\nits ruler King Victor Emmanuel II to unify the Italian states through\\nwar. In the e yes of  the r uling elites of  this r egion, a unif ied\\nItaly offered them the possibility of economic development and\\npolitical dominance.\\nFig. 13 — Caricature of Otto von Bismarck in\\nthe German reichstag (parliament), from Figaro,\\nVienna, 5 March 1870.\\nDescribe the caricature. How does it represent\\nthe relationship between Bismarck and the\\nelected deputies of Parliament? What\\ninterpretation of democratic processes is the\\nartist trying to convey?\\nActivity\\nNORTH SEA\\nSCHLESWIG-\\nHOLSTEIN\\nMECKLENBURG-\\nSCHWERIN\\nTHURINGIAN\\nSTATES\\nHANOVER\\nWESTPHALIA\\nHESSEN  NASSA\\nRHINELAND\\nBRUNSWICK\\nBAVARIABADEN\\nWURTTEMBERG\\nAUSTRIAN\\nEMPIRE\\nSILESIA\\nPOSEN\\nBRANDENBURG\\nPOMERANIA WEST PRUSSIA\\nEAST PRUSSIA\\nBALTIC SEA\\nPRUSSIA\\nRUSSIAN\\nEMPIRE\\nPrussia before 1866\\nConquered by Prussia in Austro-Prussia\\nWar, 1866\\nAustrian territories excluded from German\\nConfederation 1867\\nJoined with Prussia to form German\\nConfederation, 1867\\nSouth German states joining with Prussia to\\nform German Empire, 1871\\nWon by Prussia in Franco-Prussia War, 1871\\nFig. 12 — Unification of Germany (1866-71).\\n2024-25\\n'),\n",
              " Document(metadata={'source': 'jess301.pdf', 'page': 20}, page_content='21\\nNationalism   in    Europe\\nChief Minister Cavour who led the movement to unify the regions\\nof Italy was neither a revolutionary nor a democrat. Like many\\nother wealthy and educated members of the Italian elite, he spoke\\nFrench much better than he did Italian. Through a tactful diplomatic\\nalliance with France engineered by Cavour, Sardinia- Piedmont\\nsucceeded in defeating the Austrian forces in 1859. Apart from regular\\ntroops, a large number of armed volunteers under the leadership of\\nGiuseppe Garibaldi joined the fray. In 1860,\\n they marched into South\\nItaly and the Kingdom of the Two Sicilies and succeeded in winning\\nthe support of the local peasants in order to drive out the Spanish\\nrulers. In 1861 Victor Emmanuel II was proclaimed king of united\\nItaly. However, much of the Italian population, among whom rates\\nof illiteracy were very high, remained blissfully unaware of liberal-\\nnationalist ideology. The peasant masses who had supported Garibaldi\\nin southern Italy had never heard of Italia, and believed that ‘La  Talia’\\nwas Victor Emmanuel’s wife!\\nFig. 14(a) — Italian states before unification, 1858.\\nFig. 14(b) — Italy after unification.\\nThe map shows the year in which different\\nregions (seen in Fig 14(a) become part of a\\nunified Italy.\\nSWITZERLAND\\nVENETIALOMBARDY\\nSAVOY\\nSARDINIA PARMA\\nMODENA\\nTUSCANY\\nSAN MARINO\\nPAPAL\\nSTATE\\nKINGDOM\\nOF BOTH\\nSICILIES\\nTUNIS\\nMONACO\\n1858\\n1858-60\\n1860\\n1866\\n1870\\nSWITZERLAND\\nTUNIS\\n4.3  The Strange Case of Britain\\nThe model of the nation or the nation-state, some scholars have\\nargued, is Great Britain. In Britain the formation of the nation-state\\nAUSTRIA\\nLook at Fig. 14(a). Do you think that the people\\nliving in any of these regions thought of\\nthemselves as Italians?\\nExamine Fig. 14(b). Which was the first region\\nto become a part of unified Italy? Which was the\\nlast region to join? In which year did the largest\\nnumber of states join?\\nActivity\\n1858\\n2024-25\\n'),\n",
              " Document(metadata={'source': 'jess301.pdf', 'page': 21}, page_content='India and the Contemporary World\\n22\\nwas not the result of a sudden upheaval or revolution. It was the\\nresult of  a long-drawn-out process. There was no British nation\\nprior to the eighteenth century. The primary identities of the people\\nwho inhabited the British Isles were ethnic ones – such as English,\\nWelsh, Scot or Irish. All of these ethnic groups had their own cultural\\nand political traditions. But as the English nation steadily grew in\\nwealth, importance and power, it was able to extend its influence\\nover the other nations of the islands. The English parliament, which\\nhad seized power from the monarchy in 1688 at the end of a\\nprotracted conflict, was the instrument through which a nation-state,\\nwith England at its centre, came to be forged. The Act of Union\\n(1707) between England and Scotland that resulted in the formation\\nof the ‘United Kingdom of Great Britain’ meant, in effect, that\\nEngland was able to impose its influence on Scotland. The British\\nparliament was henceforth dominated by its English members. The\\ngrowth of a British identity meant that Scotland’s distinctive culture\\nand political institutions were systematically suppressed. The Catholic\\nclans that inhabited the Scottish Highlands suffered terrible repression\\nwhenever they attempted to assert their independence. The Scottish\\nHighlanders were forbidden to speak their Gaelic language or\\nwear their national dress, and large numbers were forcibly driven\\nout of their homeland.\\nIreland suffered a similar fate. It was a country deeply divided\\nbetween Catholics and Protestants. The English helped the Protestants\\nof Ireland to establish their dominance over a largely Catholic country.\\nCatholic revolts against British dominance were suppressed. After a\\nfailed revolt led by Wolfe Tone and his United Irishmen (1798),\\nIreland was forcibly incorporated into the United Kingdom in 1801.\\nA new ‘British nation’ was forged through the propagation of a\\ndominant English culture. The symbols of the new Britain – the\\nBritish flag (Union Jack), the national anthem (God Save Our Noble\\nKing), the English language – were actively promoted and the older\\nnations survived only as subordinate partners in this union.\\nNew words\\nEthnic – Relates to a common racial, tribal, or\\ncultural origin or background that a community\\nidentifies with or claims\\nThe artist has portrayed Garibaldi as holding on to the base of\\nthe boot, so that the King of Sardinia-Piedmont can enter it from\\nthe top. Look at the map of Italy once more. What statement is\\nthis caricature making?\\nActivity\\nGiuseppe Garibaldi (1807-82) is perhaps the\\nmost celebrated of Italian freedom fighters. He\\ncame from a family engaged in coastal trade and\\nwas a sai lor in the mer chant navy. In 1833 he\\nmet Mazzini, joined the Y oung Italy mo vement\\nand participated in a republican uprising in\\nPiedmont in 1834. The uprising was suppressed\\nand Garibaldi had to flee to South America, where\\nhe lived in exile till 1848. In 1854, he supported\\nVictor Emmanuel II in his efforts to unify the\\nItalian states. In 1860, Garibaldi led the famous\\nExpedition of the Thousand to South Italy. Fresh\\nvolunteers kept joining through the course of\\nthe campaign, till their numbers grew to about\\n30,000. They were popularly known as Red\\nShirts.\\nIn 1867, Garibaldi led an arm y of v olunteers to\\nRome to fight the last obstacle to the unification\\nof Italy, the Papal States where a French garrison\\nwas stationed. The Red Shirts proved to be no\\nmatch for the combined French and Papal troops.\\nIt was only in 1870 when, during the war with\\nPrussia, France withdrew its troops from Rome\\nthat the Papal States were finally joined\\nto Italy.\\nBox 2\\nFig. 15 – Garibaldi helping King Victor\\nEmmanuel II of Sardinia-Piedmont to pull on the\\nboot named ‘Italy’. English caricature of 1859.\\n2024-25\\n'),\n",
              " Document(metadata={'source': 'jess301.pdf', 'page': 22}, page_content='23\\nNationalism   in    Europe\\n5  Visualising the Nation\\nWhile it is easy enough to represent a ruler through a portrait or a\\nstatue, how does one go about giving a face to a nation? Artists in\\nthe eighteenth and nineteenth centuries found a way out by\\npersonifying a nation. In other words they represented a country as\\nif  it were a person. Nations were then portrayed as female figures.\\nThe female form that was chosen to per\\nsonify the nation did not\\nstand for any particular woman in real life; rather it sought to give\\nthe abstract idea of the nation a concrete form. That is, the female\\nfigure became an allegory of the nation.\\nYou will recall that during the French Revolution artists used the\\nfemale allegory to portray ideas such as Liberty, Justice and the\\nRepublic. These ideals were represented through specific objects or\\nsymbols.  As you would remember, the attributes of Liberty are the\\nred cap, or the broken chain, while Justice is generally a blindfolded\\nwoman carrying a pair of weighing scales.\\nSimilar female allegories were invented by artists in the nineteenth\\ncentury to represent the nation. In France she was christened\\nMarianne, a popular Christian name, which underlined the idea of a\\npeople’s nation. Her characteristics were drawn from those of Liberty\\nand the Republic – the red cap, the tricolour, the cockade. Statues\\nof Marianne were erected in public squares to remind the public of\\nthe national symbol of unity and to persuade them to identify with\\nit. Marianne images were marked on coins and stamps.\\nSimilarly, Germania became the allegory of the German nation. In\\nvisual representations, Germania wears a crown of oak leaves, as\\nthe German oak stands for heroism.\\nNew words\\nAllegory – When an abstract idea (for instance, greed, envy,\\nfreedom, liberty) is expressed through a person or a thing. An\\nallegorical story has two meanings, one literal and one symbolic\\nFig. 16 — Postage stamps of 1850 with the\\nfigure of Marianne representing the Republic of\\nFrance.\\nFig. 17 — Germania, Philip Veit, 1848.\\nThe artist prepared this painting of Germania on a\\ncotton banner, as it was meant to hang from the\\nceiling of the Church of St Paul where the Frankfurt\\nparliament was convened in March 1848.\\n2024-25\\n'),\n",
              " Document(metadata={'source': 'jess301.pdf', 'page': 23}, page_content='India and the Contemporary World\\n24\\nBox 3\\nMeanings of the symbols\\nAttribute Significance\\nBroken chains Being freed\\nBreastplate with eagle Symbol of the German empire – strength\\nCrown of oak leaves Heroism\\nSword Readiness to fight\\nOlive branch around the sword Willingness to make peace\\nBlack, red and gold tricolour Flag of the liberal-nationalists in 1848, banned by the Dukes of the\\nGerman states\\nRays of the rising sun Beginning of a new era\\nWith the help of the chart in Box 3, identify the attributes of Veit’s\\nGermania and interpret the symbolic meaning of the painting.\\nIn an earlier allegorical rendering of 1836, V eit had portrayed the\\nKaiser’s crown at the place where he has now located the\\nbroken chain. Explain the significance of this change.\\nActivity\\nFig. 18 — The fallen Germania, Julius Hübner, 1850.\\nDescribe what you see in Fig. 17. What historical events could Hübner be\\nreferring to in this allegorical vision of the nation?\\nActivity\\n2024-25\\n'),\n",
              " Document(metadata={'source': 'jess301.pdf', 'page': 24}, page_content='25\\nNationalism   in    Europe\\nFig. 19 — Germania guarding the Rhine.\\nIn 1860, the artist Lorenz Clasen was commissioned to paint this image. The inscription\\non Germania’s sword reads: ‘The German sword protects the German Rhine.’\\nLook once more at Fig. 10. Imagine you were a citizen of Frankfurt in March 1848 and were present during the\\nproceedings of the parliament. How would you (a) as a man seated in the hall of deputies, and (b) as a woman\\nobserving from the galleries, relate to the banner of Germania hanging from the ceiling?\\nActivity\\n2024-25\\n'),\n",
              " Document(metadata={'source': 'jess301.pdf', 'page': 25}, page_content='India and the Contemporary World\\n26\\n6  Nationalism and Imperialism\\nBy the last quarter of the nineteenth century nationalism no longer\\nretained its idealistic liberal-democratic sentiment of the first half\\nof the century, but became a narrow creed with limited ends. During\\nthis period nationalist groups became increasingly intolerant of each\\nother and ever ready to go to war. \\nThe major European powers, in\\nturn, manipulated the nationalist aspirations of the subject peoples\\nin Europe to further their own imperialist aims.\\nThe most serious source of nationalist tension in Europe after 1871\\nwas the ar ea called the Balkans . T he Balkans w as a r egion of\\ngeographical and ethnic variation comprising modern-day Romania,\\nBulgaria, Albania, Greece, Macedonia, Croatia, Bosnia-Herzegovina,\\nSlovenia, Serbia and Montenegro whose inhabitants were broadly\\nknown as the Slavs. A large part of the Balkans was under the control\\nof the Ottoman Empire. The spread of the ideas of romantic\\nnationalism in the Balkans together with the disintegration of the\\nOttoman Empire made this region very explosive. All through the\\nnineteenth century the Ottoman Empire had sought to strengthen\\nitself  through modernisation and internal reforms but with very\\nlittle success. One by one, its European subject nationalities broke\\naway from its control and declared independence. The Balkan\\npeoples based their claims for independence or political rights on\\nnationality and used history to prove that they had once been\\nindependent but had subsequently been subjugated by foreign\\npowers. Hence the rebellious nationalities in the Balkans thought of\\ntheir struggles as attempts to win back their long-lost independence.\\n As the different Slavic nationalities struggled to define their identity\\nand independence, the Balkan area became an area of intense conflict.\\nThe Balkan states were fiercely jealous of each other and each hoped\\nto gain more territory at the expense of the others. Matters were\\nfurther complicated because the Balkans also became the scene of\\nbig power rivalry. During this period, there was intense rivalry among\\nthe European powers over trade and colonies as well as naval and\\nmilitary might. These rivalries were very evident in the way the Balkan\\nproblem unf olded. Eac h po wer – R ussia, Ger many, Eng land,\\nAustro-Hungary – was keen on countering the hold of other powers\\nover the Balkans, and extending its own control over the area. This\\nled to a series of wars in the region and finally the First World War.\\n2024-25\\n'),\n",
              " Document(metadata={'source': 'jess301.pdf', 'page': 26}, page_content='27\\nNationalism   in    Europe\\nNationalism, aligned with imperialism, led Europe to disaster in 1914.\\nBut meanwhile, many countries in the world which had been\\ncolonised by the European powers in the nineteenth century began\\nto oppose imperial domination. The anti-imperial movements that\\ndeveloped everywhere were nationalist, in the sense that they all\\nstruggled to form independent nation-states, and were inspired by\\na sense of  collective national unity, forged in confrontation with\\nimperialism. European ideas of nationalism were nowhere\\nreplicated, for people everywhere developed their own specific variety\\nof nationalism. But the idea that societies should be organised into\\n‘nation-states’ came to be accepted as natural and universal.\\nFig. 20 — A map celebrating the British Empire.\\nAt the top, angels are shown carrying the banner of freedom. In the foreground, Britannia —  the\\nsymbol of the British nation —  is triumphantly sitting over the globe. The colonies are represented\\nthrough images of tigers, elephants, forests and primitive people. The domination of the world is\\nshown as the basis of Britain’s national pride.\\n2024-25\\n'),\n",
              " Document(metadata={'source': 'jess301.pdf', 'page': 27}, page_content='India and the Contemporary World\\n28\\nDiscuss\\nProject\\n1. Explain what is meant by the 1848 revolution of the liberals.  What were the political, social\\nand economic ideas supported by the liberals?\\n2. Choose three examples to show the contribution of culture to the growth of nationalism\\nin Europe.\\n3. Through a focus on any two countries, explain how nations developed over the nineteenth\\ncentury.\\n4. How was the history of nationalism in Britain unlike the rest of Europe?\\n5. Why did nationalist tensions emerge in the Balkans?\\nFind out more about nationalist symbols in countries outside Europe. For one or two countries,\\ncollect examples of pictures, posters or music that are symbols of nationalism. How are these\\ndifferent from European examples?\\nDiscuss\\nWrite in brief\\n1. Write a note on:\\na) Guiseppe  Mazzini\\nb) Count Camillo de Cavour\\nc) The Greek war of independence\\nd)  Frankfurt parliament\\ne) The role of women in nationalist struggles\\n2. What steps did the French revolutionaries take to create a sense of collective\\nidentity among the French people?\\n3. Who were Marianne and Germania? What was the importance of the way in\\nwhich they were portrayed?\\n4. Briefly trace the process of German unification.\\n5. What changes did Napoleon introduce to make the administrative system more\\nefficient in the territories ruled by him?\\nWrite in brief\\nProject\\n2024-25\\n')]"
            ]
          },
          "metadata": {},
          "execution_count": 3
        }
      ]
    },
    {
      "cell_type": "markdown",
      "source": [
        "### Splitting\n",
        "\n"
      ],
      "metadata": {
        "id": "St-HSixpSD1g"
      }
    },
    {
      "cell_type": "code",
      "source": [
        "from langchain_text_splitters import RecursiveCharacterTextSplitter\n",
        "\n",
        "text_splitter = RecursiveCharacterTextSplitter(\n",
        "    chunk_size=1000, chunk_overlap=200, add_start_index=True\n",
        ")\n",
        "all_splits = text_splitter.split_documents(docs)\n",
        "\n",
        "len(all_splits)"
      ],
      "metadata": {
        "colab": {
          "base_uri": "https://localhost:8080/"
        },
        "id": "nU6UWGFBSgd1",
        "outputId": "5dd400a6-dd74-4efa-bc45-b4eee2491fd5"
      },
      "execution_count": 5,
      "outputs": [
        {
          "output_type": "execute_result",
          "data": {
            "text/plain": [
              "81"
            ]
          },
          "metadata": {},
          "execution_count": 5
        }
      ]
    },
    {
      "cell_type": "markdown",
      "source": [
        "### Embeddings\n",
        "\n"
      ],
      "metadata": {
        "id": "Cu9NfUY1Sl2G"
      }
    },
    {
      "cell_type": "code",
      "source": [
        "from langchain_openai import OpenAIEmbeddings\n",
        "\n",
        "embeddings = OpenAIEmbeddings(model=\"text-embedding-3-large\")"
      ],
      "metadata": {
        "id": "z0V_mfy-S11X"
      },
      "execution_count": 8,
      "outputs": []
    },
    {
      "cell_type": "markdown",
      "source": [
        "### Storing in vectorstore\n",
        "\n"
      ],
      "metadata": {
        "id": "qO2TNn4vBWbM"
      }
    },
    {
      "cell_type": "code",
      "source": [
        "pip install -qU langchain-chroma"
      ],
      "metadata": {
        "id": "2zyMP7VdBY8M",
        "colab": {
          "base_uri": "https://localhost:8080/"
        },
        "outputId": "b586424d-4c27-4aa6-a992-32ab184dcde2"
      },
      "execution_count": 11,
      "outputs": [
        {
          "output_type": "stream",
          "name": "stdout",
          "text": [
            "\u001b[?25l     \u001b[90m━━━━━━━━━━━━━━━━━━━━━━━━━━━━━━━━━━━━━━━━\u001b[0m \u001b[32m0.0/67.3 kB\u001b[0m \u001b[31m?\u001b[0m eta \u001b[36m-:--:--\u001b[0m\r\u001b[2K     \u001b[90m━━━━━━━━━━━━━━━━━━━━━━━━━━━━━━━━━━━━━━━━\u001b[0m \u001b[32m67.3/67.3 kB\u001b[0m \u001b[31m6.0 MB/s\u001b[0m eta \u001b[36m0:00:00\u001b[0m\n",
            "\u001b[?25h  Installing build dependencies ... \u001b[?25l\u001b[?25hdone\n",
            "  Getting requirements to build wheel ... \u001b[?25l\u001b[?25hdone\n",
            "  Preparing metadata (pyproject.toml) ... \u001b[?25l\u001b[?25hdone\n",
            "\u001b[2K   \u001b[90m━━━━━━━━━━━━━━━━━━━━━━━━━━━━━━━━━━━━━━━━\u001b[0m \u001b[32m628.3/628.3 kB\u001b[0m \u001b[31m33.6 MB/s\u001b[0m eta \u001b[36m0:00:00\u001b[0m\n",
            "\u001b[2K   \u001b[90m━━━━━━━━━━━━━━━━━━━━━━━━━━━━━━━━━━━━━━━━\u001b[0m \u001b[32m2.4/2.4 MB\u001b[0m \u001b[31m66.8 MB/s\u001b[0m eta \u001b[36m0:00:00\u001b[0m\n",
            "\u001b[2K   \u001b[90m━━━━━━━━━━━━━━━━━━━━━━━━━━━━━━━━━━━━━━━━\u001b[0m \u001b[32m94.8/94.8 kB\u001b[0m \u001b[31m7.8 MB/s\u001b[0m eta \u001b[36m0:00:00\u001b[0m\n",
            "\u001b[2K   \u001b[90m━━━━━━━━━━━━━━━━━━━━━━━━━━━━━━━━━━━━━━━━\u001b[0m \u001b[32m278.6/278.6 kB\u001b[0m \u001b[31m20.9 MB/s\u001b[0m eta \u001b[36m0:00:00\u001b[0m\n",
            "\u001b[2K   \u001b[90m━━━━━━━━━━━━━━━━━━━━━━━━━━━━━━━━━━━━━━━━\u001b[0m \u001b[32m1.9/1.9 MB\u001b[0m \u001b[31m67.3 MB/s\u001b[0m eta \u001b[36m0:00:00\u001b[0m\n",
            "\u001b[2K   \u001b[90m━━━━━━━━━━━━━━━━━━━━━━━━━━━━━━━━━━━━━━━━\u001b[0m \u001b[32m93.2/93.2 kB\u001b[0m \u001b[31m7.0 MB/s\u001b[0m eta \u001b[36m0:00:00\u001b[0m\n",
            "\u001b[2K   \u001b[90m━━━━━━━━━━━━━━━━━━━━━━━━━━━━━━━━━━━━━━━━\u001b[0m \u001b[32m13.3/13.3 MB\u001b[0m \u001b[31m79.9 MB/s\u001b[0m eta \u001b[36m0:00:00\u001b[0m\n",
            "\u001b[2K   \u001b[90m━━━━━━━━━━━━━━━━━━━━━━━━━━━━━━━━━━━━━━━━\u001b[0m \u001b[32m55.8/55.8 kB\u001b[0m \u001b[31m4.2 MB/s\u001b[0m eta \u001b[36m0:00:00\u001b[0m\n",
            "\u001b[2K   \u001b[90m━━━━━━━━━━━━━━━━━━━━━━━━━━━━━━━━━━━━━━━━\u001b[0m \u001b[32m54.9/54.9 kB\u001b[0m \u001b[31m3.8 MB/s\u001b[0m eta \u001b[36m0:00:00\u001b[0m\n",
            "\u001b[2K   \u001b[90m━━━━━━━━━━━━━━━━━━━━━━━━━━━━━━━━━━━━━━━━\u001b[0m \u001b[32m73.2/73.2 kB\u001b[0m \u001b[31m4.9 MB/s\u001b[0m eta \u001b[36m0:00:00\u001b[0m\n",
            "\u001b[2K   \u001b[90m━━━━━━━━━━━━━━━━━━━━━━━━━━━━━━━━━━━━━━━━\u001b[0m \u001b[32m3.0/3.0 MB\u001b[0m \u001b[31m63.9 MB/s\u001b[0m eta \u001b[36m0:00:00\u001b[0m\n",
            "\u001b[2K   \u001b[90m━━━━━━━━━━━━━━━━━━━━━━━━━━━━━━━━━━━━━━━━\u001b[0m \u001b[32m62.3/62.3 kB\u001b[0m \u001b[31m4.5 MB/s\u001b[0m eta \u001b[36m0:00:00\u001b[0m\n",
            "\u001b[2K   \u001b[90m━━━━━━━━━━━━━━━━━━━━━━━━━━━━━━━━━━━━━━━━\u001b[0m \u001b[32m442.1/442.1 kB\u001b[0m \u001b[31m26.6 MB/s\u001b[0m eta \u001b[36m0:00:00\u001b[0m\n",
            "\u001b[2K   \u001b[90m━━━━━━━━━━━━━━━━━━━━━━━━━━━━━━━━━━━━━━━━\u001b[0m \u001b[32m319.7/319.7 kB\u001b[0m \u001b[31m21.8 MB/s\u001b[0m eta \u001b[36m0:00:00\u001b[0m\n",
            "\u001b[2K   \u001b[90m━━━━━━━━━━━━━━━━━━━━━━━━━━━━━━━━━━━━━━━━\u001b[0m \u001b[32m3.8/3.8 MB\u001b[0m \u001b[31m79.8 MB/s\u001b[0m eta \u001b[36m0:00:00\u001b[0m\n",
            "\u001b[2K   \u001b[90m━━━━━━━━━━━━━━━━━━━━━━━━━━━━━━━━━━━━━━━━\u001b[0m \u001b[32m443.8/443.8 kB\u001b[0m \u001b[31m25.4 MB/s\u001b[0m eta \u001b[36m0:00:00\u001b[0m\n",
            "\u001b[2K   \u001b[90m━━━━━━━━━━━━━━━━━━━━━━━━━━━━━━━━━━━━━━━━\u001b[0m \u001b[32m46.0/46.0 kB\u001b[0m \u001b[31m3.0 MB/s\u001b[0m eta \u001b[36m0:00:00\u001b[0m\n",
            "\u001b[2K   \u001b[90m━━━━━━━━━━━━━━━━━━━━━━━━━━━━━━━━━━━━━━━━\u001b[0m \u001b[32m86.8/86.8 kB\u001b[0m \u001b[31m6.6 MB/s\u001b[0m eta \u001b[36m0:00:00\u001b[0m\n",
            "\u001b[?25h  Building wheel for pypika (pyproject.toml) ... \u001b[?25l\u001b[?25hdone\n",
            "\u001b[31mERROR: pip's dependency resolver does not currently take into account all the packages that are installed. This behaviour is the source of the following dependency conflicts.\n",
            "tensorflow 2.17.1 requires protobuf!=4.21.0,!=4.21.1,!=4.21.2,!=4.21.3,!=4.21.4,!=4.21.5,<5.0.0dev,>=3.20.3, but you have protobuf 5.29.2 which is incompatible.\n",
            "tensorflow-metadata 1.13.1 requires protobuf<5,>=3.20.3, but you have protobuf 5.29.2 which is incompatible.\n",
            "transformers 4.47.1 requires tokenizers<0.22,>=0.21, but you have tokenizers 0.20.3 which is incompatible.\u001b[0m\u001b[31m\n",
            "\u001b[0m"
          ]
        }
      ]
    },
    {
      "cell_type": "code",
      "source": [
        "from langchain_chroma import Chroma\n",
        "\n",
        "vector_store = Chroma(embedding_function=embeddings)"
      ],
      "metadata": {
        "id": "7feFLijxBsO7"
      },
      "execution_count": 12,
      "outputs": []
    },
    {
      "cell_type": "code",
      "source": [
        "ids = vector_store.add_documents(documents=all_splits)"
      ],
      "metadata": {
        "id": "YDm-C-koBuG8"
      },
      "execution_count": 13,
      "outputs": []
    },
    {
      "cell_type": "markdown",
      "source": [
        "### Combined Ingestion"
      ],
      "metadata": {
        "id": "o0XTRtUlmEbj"
      }
    },
    {
      "cell_type": "code",
      "source": [
        "from langchain_community.document_loaders import PyPDFLoader\n",
        "from langchain_text_splitters import RecursiveCharacterTextSplitter\n",
        "from langchain_openai import OpenAIEmbeddings\n",
        "from langchain_chroma import Chroma\n",
        "\n",
        "\n",
        "\n",
        "embeddings = OpenAIEmbeddings(model=\"text-embedding-3-large\")\n",
        "\n",
        "vector_store = Chroma(embedding_function=embeddings)"
      ],
      "metadata": {
        "id": "gU4uRgOPme0s"
      },
      "execution_count": 14,
      "outputs": []
    },
    {
      "cell_type": "code",
      "source": [
        "file_path = \"jess305.pdf\"\n",
        "loader = PyPDFLoader(file_path)\n",
        "docs = loader.load()\n",
        "\n",
        "text_splitter = RecursiveCharacterTextSplitter(\n",
        "    chunk_size=1000, chunk_overlap=200, add_start_index=True\n",
        ")\n",
        "all_splits = text_splitter.split_documents(docs)\n",
        "\n",
        "ids = vector_store.add_documents(documents=all_splits)\n"
      ],
      "metadata": {
        "id": "SuoB5MSUl6WE"
      },
      "execution_count": 18,
      "outputs": []
    },
    {
      "cell_type": "markdown",
      "source": [
        "## Retrieval"
      ],
      "metadata": {
        "id": "WayyRFbXBxkQ"
      }
    },
    {
      "cell_type": "markdown",
      "source": [
        "### Retrieving relevant documents"
      ],
      "metadata": {
        "id": "ZRZNTuQqWI6X"
      }
    },
    {
      "cell_type": "code",
      "source": [
        "results = vector_store.similarity_search_with_relevance_scores(\n",
        "    query, k=6, score_threshold=0.4\n",
        ")\n",
        "results"
      ],
      "metadata": {
        "colab": {
          "base_uri": "https://localhost:8080/"
        },
        "id": "IBxjldTbB4DT",
        "outputId": "1458cc31-28a7-47cc-a8af-a0a9912b6696",
        "collapsed": true
      },
      "execution_count": 31,
      "outputs": [
        {
          "output_type": "execute_result",
          "data": {
            "text/plain": [
              "[(Document(metadata={'page': 11, 'source': 'jess301.pdf', 'start_index': 800}, page_content='One such individual was the Italian revolutionary Giuseppe\\nMazzini. Born in Genoa in 1805, he became a member of the\\nsecret society of the Carbonari. As a young man of 24, he was\\nsent into exile in 1831 for attempting a revolution in Liguria.\\nHe subsequently founded two more underground societies,\\nfirst, Young Italy in Marseilles, and then, Young Europe in\\nBerne, whose members were like-minded young men from\\nPoland, France, Italy and the German states. Mazzini believed\\nthat God had intended nations to be the natural units of\\nmankind. So Italy could not continue to be a patchwork of\\nsmall states and kingdoms. It had to be forged into a single\\nunified republic within a wider alliance of nations. This\\nunification alone could be the basis of Italian liberty. Following\\nhis model, secret societies were set up in Germany, France,\\nSwitzerland and Poland. Mazzini’s relentless opposition to\\nmonarchy and his vision of democratic republics frightened the'),\n",
              "  0.6567814381300826),\n",
              " (Document(metadata={'page': 11, 'source': 'jess301.pdf', 'start_index': 1575}, page_content='his model, secret societies were set up in Germany, France,\\nSwitzerland and Poland. Mazzini’s relentless opposition to\\nmonarchy and his vision of democratic republics frightened the\\nconservatives.  Metternich described him as ‘the most dangerous\\nenemy of our social order’.\\nFig. 7 — Giuseppe Mazzini and the founding of\\nYoung Europe in Berne 1833.\\nPrint by Giacomo Mantegazza.\\n2024-25'),\n",
              "  0.44028361404174765),\n",
              " (Document(metadata={'page': 11, 'source': 'jess301.pdf', 'start_index': 0}, page_content='India and the Contemporary World\\n12\\nassociated with the French Revolution. The memory of the French\\nRevolution nonetheless continued to inspire liberals. One of the major\\nissues taken up by the liberal-nationalists, who criticised the new\\nconservative order, was freedom of the press.\\n2.4 The Revolutionaries\\nDuring the years following 1815, the fear of repression drove\\nmany liberal-nationalists underground. Secret societies sprang\\nup in many European states to train revolutionaries and spread\\ntheir ideas. To be revolutionary at this time meant a commitment\\nto oppose monarchical forms that had been established after\\nthe Vienna Congress, and to fight for liberty and freedom. Most\\nof these revolutionaries also saw the creation of nation-states as\\na necessary part of this struggle for freedom.\\nOne such individual was the Italian revolutionary Giuseppe\\nMazzini. Born in Genoa in 1805, he became a member of the\\nsecret society of the Carbonari. As a young man of 24, he was'),\n",
              "  0.4255376118595442)]"
            ]
          },
          "metadata": {},
          "execution_count": 31
        }
      ]
    },
    {
      "cell_type": "code",
      "source": [
        "for i in range(len(results)):\n",
        "    print(f\"{i}: {results[i]}\")\n",
        "    print(\"--------------------------------\")"
      ],
      "metadata": {
        "id": "GfRJOM-24IRl",
        "colab": {
          "base_uri": "https://localhost:8080/"
        },
        "outputId": "44a5d550-c02a-45f5-8185-256fa959563c"
      },
      "execution_count": 32,
      "outputs": [
        {
          "output_type": "stream",
          "name": "stdout",
          "text": [
            "0: (Document(metadata={'page': 11, 'source': 'jess301.pdf', 'start_index': 800}, page_content='One such individual was the Italian revolutionary Giuseppe\\nMazzini. Born in Genoa in 1805, he became a member of the\\nsecret society of the Carbonari. As a young man of 24, he was\\nsent into exile in 1831 for attempting a revolution in Liguria.\\nHe subsequently founded two more underground societies,\\nfirst, Young Italy in Marseilles, and then, Young Europe in\\nBerne, whose members were like-minded young men from\\nPoland, France, Italy and the German states. Mazzini believed\\nthat God had intended nations to be the natural units of\\nmankind. So Italy could not continue to be a patchwork of\\nsmall states and kingdoms. It had to be forged into a single\\nunified republic within a wider alliance of nations. This\\nunification alone could be the basis of Italian liberty. Following\\nhis model, secret societies were set up in Germany, France,\\nSwitzerland and Poland. Mazzini’s relentless opposition to\\nmonarchy and his vision of democratic republics frightened the'), 0.6567814381300826)\n",
            "--------------------------------\n",
            "1: (Document(metadata={'page': 11, 'source': 'jess301.pdf', 'start_index': 1575}, page_content='his model, secret societies were set up in Germany, France,\\nSwitzerland and Poland. Mazzini’s relentless opposition to\\nmonarchy and his vision of democratic republics frightened the\\nconservatives.  Metternich described him as ‘the most dangerous\\nenemy of our social order’.\\nFig. 7 — Giuseppe Mazzini and the founding of\\nYoung Europe in Berne 1833.\\nPrint by Giacomo Mantegazza.\\n2024-25'), 0.44028361404174765)\n",
            "--------------------------------\n",
            "2: (Document(metadata={'page': 11, 'source': 'jess301.pdf', 'start_index': 0}, page_content='India and the Contemporary World\\n12\\nassociated with the French Revolution. The memory of the French\\nRevolution nonetheless continued to inspire liberals. One of the major\\nissues taken up by the liberal-nationalists, who criticised the new\\nconservative order, was freedom of the press.\\n2.4 The Revolutionaries\\nDuring the years following 1815, the fear of repression drove\\nmany liberal-nationalists underground. Secret societies sprang\\nup in many European states to train revolutionaries and spread\\ntheir ideas. To be revolutionary at this time meant a commitment\\nto oppose monarchical forms that had been established after\\nthe Vienna Congress, and to fight for liberty and freedom. Most\\nof these revolutionaries also saw the creation of nation-states as\\na necessary part of this struggle for freedom.\\nOne such individual was the Italian revolutionary Giuseppe\\nMazzini. Born in Genoa in 1805, he became a member of the\\nsecret society of the Carbonari. As a young man of 24, he was'), 0.4255376118595442)\n",
            "--------------------------------\n"
          ]
        }
      ]
    },
    {
      "cell_type": "markdown",
      "source": [
        "## Generation"
      ],
      "metadata": {
        "id": "MkSVA7sVVoPr"
      }
    },
    {
      "cell_type": "code",
      "source": [
        "context = \"\\n----------------\\n\".join([doc.page_content for doc, _ in results])\n",
        "meta_data=\"\\n----------------\\n\".join([str(doc.metadata) for doc, _ in results])"
      ],
      "metadata": {
        "collapsed": true,
        "id": "Ax7DXd6FVqs0"
      },
      "execution_count": 33,
      "outputs": []
    },
    {
      "cell_type": "code",
      "source": [
        "from langchain_core.prompts import PromptTemplate\n",
        "\n",
        "prompt_template = PromptTemplate(template=\"\"\"Answer the given query: {query} \\nbased on given {context}.\n",
        "Do not halucinate or generate answers based on pretrained data. If you can't find answer based on given context\n",
        "simply say 'I don't know because I can't find any relevant context.'\"\"\")\n",
        "\n",
        "prompt = prompt_template.invoke({\"query\": query, \"context\": context})\n",
        "response = model.invoke(prompt)\n",
        "\n",
        "print(response.content)\n",
        "print(meta_data)"
      ],
      "metadata": {
        "colab": {
          "base_uri": "https://localhost:8080/"
        },
        "id": "bCGha--Ww4T-",
        "outputId": "a405f5ad-e005-44cf-c687-5f5a059fbcd6"
      },
      "execution_count": 34,
      "outputs": [
        {
          "output_type": "stream",
          "name": "stdout",
          "text": [
            "Giuseppe Mazzini was an Italian revolutionary born in Genoa in 1805. He became a member of the secret society of the Carbonari and was sent into exile in 1831 at the age of 24 for attempting a revolution in Liguria. Mazzini subsequently founded two more underground societies: Young Italy in Marseilles and Young Europe in Berne. He believed that nations were intended by God to be the natural units of mankind and advocated for the unification of Italy into a single republic as part of a wider alliance of nations. Mazzini's vision opposed monarchy and supported democratic republics, which frightened conservatives. Metternich described him as \"the most dangerous enemy of our social order.\"\n",
            "{'page': 11, 'source': 'jess301.pdf', 'start_index': 800}\n",
            "----------------\n",
            "{'page': 11, 'source': 'jess301.pdf', 'start_index': 1575}\n",
            "----------------\n",
            "{'page': 11, 'source': 'jess301.pdf', 'start_index': 0}\n"
          ]
        }
      ]
    },
    {
      "cell_type": "markdown",
      "source": [
        "## Combined Retrieval and Generation"
      ],
      "metadata": {
        "id": "_PfxOsxnDDZU"
      }
    },
    {
      "cell_type": "code",
      "source": [
        "query=\"Tell me about Gutenberg press?\"\n",
        "from langchain_core.prompts import PromptTemplate\n",
        "\n",
        "results = vector_store.similarity_search_with_relevance_scores(\n",
        "    query, k=7, score_threshold=0.2\n",
        ")\n",
        "\n",
        "context = \"\\n----------------\\n\".join([doc.page_content for doc, _ in results])\n",
        "meta_data=\"\\n----------------\\n\".join([str(doc.metadata) for doc, _ in results])\n",
        "\n",
        "\n",
        "\n",
        "prompt_template = PromptTemplate(template=\"\"\"Answer the given query: {query} \\nbased on given {context}.\n",
        "Do not halucinate or generate answers based on pretrained data. If you can't find answer based on given context\n",
        "simply say 'I don't know because I can't find any relevant context.'\"\"\")\n",
        "\n",
        "prompt = prompt_template.invoke({\"query\": query, \"context\": context})\n",
        "response = model.invoke(prompt)\n",
        "\n",
        "print(\"\\n\\nRESPONSE:\")\n",
        "print(response.content)\n",
        "print(\"\\n\\nREFERENCES:\")\n",
        "print(meta_data)"
      ],
      "metadata": {
        "colab": {
          "base_uri": "https://localhost:8080/"
        },
        "id": "gvdd6tFmDIgO",
        "outputId": "ef80bd2a-c8d6-4bf6-c3d9-0cfeecab182d"
      },
      "execution_count": 35,
      "outputs": [
        {
          "output_type": "stream",
          "name": "stdout",
          "text": [
            "\n",
            "\n",
            "RESPONSE:\n",
            "The Gutenberg press, developed by Johann Gutenberg in the 1430s, was an innovative printing technology that utilized movable type. Drawing inspiration from the olive press, Gutenberg designed a system where metal types were cast for each letter of the alphabet, allowing for the composition of different texts. By 1448, Gutenberg had perfected this system, and the first major book he printed was the Bible, producing around 180 copies over three years. This was considered fast for the time. The press could print 250 sheets on one side per hour. This technology initiated a print revolution, leading to a significant increase in book production across Europe, with 20 million copies by the end of the 15th century and 200 million by the 16th century. Initially, printed books closely resembled handwritten manuscripts, with spaces left for hand-drawn illustrations and decorations.\n",
            "\n",
            "\n",
            "REFERENCES:\n",
            "{'page': 6, 'source': 'jess305.pdf', 'start_index': 0}\n",
            "----------------\n",
            "{'page': 6, 'source': 'jess305.pdf', 'start_index': 2426}\n",
            "----------------\n",
            "{'page': 6, 'source': 'jess305.pdf', 'start_index': 1623}\n",
            "----------------\n",
            "{'page': 6, 'source': 'jess305.pdf', 'start_index': 801}\n",
            "----------------\n",
            "{'page': 5, 'source': 'jess305.pdf', 'start_index': 1540}\n",
            "----------------\n",
            "{'page': 7, 'source': 'jess305.pdf', 'start_index': 820}\n",
            "----------------\n",
            "{'page': 9, 'source': 'jess305.pdf', 'start_index': 1668}\n"
          ]
        }
      ]
    }
  ]
}