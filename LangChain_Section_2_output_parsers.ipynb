{
  "nbformat": 4,
  "nbformat_minor": 0,
  "metadata": {
    "colab": {
      "provenance": []
    },
    "kernelspec": {
      "name": "python3",
      "display_name": "Python 3"
    },
    "language_info": {
      "name": "python"
    }
  },
  "cells": [
    {
      "cell_type": "markdown",
      "source": [
        "# Environment setup"
      ],
      "metadata": {
        "id": "s9gcMxg9ElWI"
      }
    },
    {
      "cell_type": "code",
      "execution_count": null,
      "metadata": {
        "id": "q01-pvBmKOc5",
        "colab": {
          "base_uri": "https://localhost:8080/"
        },
        "collapsed": true,
        "outputId": "d15ab058-51de-497d-ff93-a40753112e84"
      },
      "outputs": [
        {
          "output_type": "stream",
          "name": "stdout",
          "text": [
            "\u001b[?25l   \u001b[90m━━━━━━━━━━━━━━━━━━━━━━━━━━━━━━━━━━━━━━━━\u001b[0m \u001b[32m0.0/411.5 kB\u001b[0m \u001b[31m?\u001b[0m eta \u001b[36m-:--:--\u001b[0m\r\u001b[2K   \u001b[90m━━━━━━━━━━━━━━━━━━━━━━━━━━━━━━━━━━━━━━━━\u001b[0m \u001b[32m411.5/411.5 kB\u001b[0m \u001b[31m16.1 MB/s\u001b[0m eta \u001b[36m0:00:00\u001b[0m\n",
            "\u001b[?25h"
          ]
        }
      ],
      "source": [
        "%pip install --upgrade --quiet langchain-core"
      ]
    },
    {
      "cell_type": "code",
      "source": [
        "%pip install -qU langchain-openai\n",
        "%pip install --upgrade \"httpx<0.28\""
      ],
      "metadata": {
        "colab": {
          "base_uri": "https://localhost:8080/"
        },
        "id": "ZeDPaS4iKj-w",
        "outputId": "5a1db547-b526-4639-d695-3c8f50f3f49b"
      },
      "execution_count": null,
      "outputs": [
        {
          "output_type": "stream",
          "name": "stdout",
          "text": [
            "\u001b[?25l   \u001b[90m━━━━━━━━━━━━━━━━━━━━━━━━━━━━━━━━━━━━━━━━\u001b[0m \u001b[32m0.0/50.7 kB\u001b[0m \u001b[31m?\u001b[0m eta \u001b[36m-:--:--\u001b[0m\r\u001b[2K   \u001b[90m━━━━━━━━━━━━━━━━━━━━━━━━━━━━━━━━━━━━━━━━\u001b[0m \u001b[32m50.7/50.7 kB\u001b[0m \u001b[31m2.2 MB/s\u001b[0m eta \u001b[36m0:00:00\u001b[0m\n",
            "\u001b[2K   \u001b[90m━━━━━━━━━━━━━━━━━━━━━━━━━━━━━━━━━━━━━━━━\u001b[0m \u001b[32m1.2/1.2 MB\u001b[0m \u001b[31m17.5 MB/s\u001b[0m eta \u001b[36m0:00:00\u001b[0m\n",
            "\u001b[?25hCollecting httpx<0.28\n",
            "  Downloading httpx-0.27.2-py3-none-any.whl.metadata (7.1 kB)\n",
            "Requirement already satisfied: anyio in /usr/local/lib/python3.10/dist-packages (from httpx<0.28) (3.7.1)\n",
            "Requirement already satisfied: certifi in /usr/local/lib/python3.10/dist-packages (from httpx<0.28) (2024.12.14)\n",
            "Requirement already satisfied: httpcore==1.* in /usr/local/lib/python3.10/dist-packages (from httpx<0.28) (1.0.7)\n",
            "Requirement already satisfied: idna in /usr/local/lib/python3.10/dist-packages (from httpx<0.28) (3.10)\n",
            "Requirement already satisfied: sniffio in /usr/local/lib/python3.10/dist-packages (from httpx<0.28) (1.3.1)\n",
            "Requirement already satisfied: h11<0.15,>=0.13 in /usr/local/lib/python3.10/dist-packages (from httpcore==1.*->httpx<0.28) (0.14.0)\n",
            "Requirement already satisfied: exceptiongroup in /usr/local/lib/python3.10/dist-packages (from anyio->httpx<0.28) (1.2.2)\n",
            "Downloading httpx-0.27.2-py3-none-any.whl (76 kB)\n",
            "\u001b[2K   \u001b[90m━━━━━━━━━━━━━━━━━━━━━━━━━━━━━━━━━━━━━━━━\u001b[0m \u001b[32m76.4/76.4 kB\u001b[0m \u001b[31m6.9 MB/s\u001b[0m eta \u001b[36m0:00:00\u001b[0m\n",
            "\u001b[?25hInstalling collected packages: httpx\n",
            "  Attempting uninstall: httpx\n",
            "    Found existing installation: httpx 0.28.1\n",
            "    Uninstalling httpx-0.28.1:\n",
            "      Successfully uninstalled httpx-0.28.1\n",
            "Successfully installed httpx-0.27.2\n"
          ]
        }
      ]
    },
    {
      "cell_type": "code",
      "source": [
        "import getpass\n",
        "import os\n",
        "\n",
        "os.environ[\"OPENAI_API_KEY\"] = getpass.getpass()"
      ],
      "metadata": {
        "colab": {
          "base_uri": "https://localhost:8080/"
        },
        "id": "Z6krlP0PKnuE",
        "outputId": "0a5881e6-5770-47a7-d8f0-278e0006a023"
      },
      "execution_count": null,
      "outputs": [
        {
          "name": "stdout",
          "output_type": "stream",
          "text": [
            "··········\n"
          ]
        }
      ]
    },
    {
      "cell_type": "code",
      "source": [
        "from langchain_openai import ChatOpenAI\n",
        "\n",
        "model = ChatOpenAI(model=\"gpt-4o\")"
      ],
      "metadata": {
        "id": "S9Yd7eDOfwKK"
      },
      "execution_count": null,
      "outputs": []
    },
    {
      "cell_type": "markdown",
      "source": [
        "# Prompting without Message objects"
      ],
      "metadata": {
        "id": "zIMhoPrzwqF5"
      }
    },
    {
      "cell_type": "code",
      "source": [
        "response=model.invoke(\"Give me a list of 4 tourist locations in Chicago\")\n",
        "response.content"
      ],
      "metadata": {
        "id": "7d9f5SzLaZPB",
        "colab": {
          "base_uri": "https://localhost:8080/",
          "height": 105
        },
        "outputId": "7e071e20-f747-4e33-ccee-344b0d2d9948"
      },
      "execution_count": null,
      "outputs": [
        {
          "output_type": "execute_result",
          "data": {
            "text/plain": [
              "'Certainly! Here are four popular tourist locations in Chicago:\\n\\n1. **Millennium Park**: Known for its iconic Cloud Gate sculpture (often referred to as \"The Bean\"), Millennium Park is a must-visit for its beautiful gardens, art installations, and the Jay Pritzker Pavilion.\\n\\n2. **The Art Institute of Chicago**: This world-renowned art museum houses an extensive collection of artworks, including pieces by famous artists like Grant Wood, Georges Seurat, and Vincent van Gogh.\\n\\n3. **Navy Pier**: A popular entertainment destination, Navy Pier offers rides, restaurants, shops, and attractions such as the Centennial Wheel, a large Ferris wheel offering stunning views of the city skyline and Lake Michigan.\\n\\n4. **The Field Museum**: One of the largest natural history museums in the world, The Field Museum is home to a vast range of exhibits, including the famous T. rex skeleton named Sue.\\n\\nThese locations offer a mix of art, culture, and entertainment, making them ideal for visitors to explore.'"
            ],
            "application/vnd.google.colaboratory.intrinsic+json": {
              "type": "string"
            }
          },
          "metadata": {},
          "execution_count": 5
        }
      ]
    },
    {
      "cell_type": "code",
      "source": [
        "from langchain_core.prompts import PromptTemplate\n",
        "\n",
        "prompt_template = PromptTemplate(template=\"Give me a list of {number} tourist locations in {city}\")\n",
        "\n",
        "prompt = prompt_template.invoke({\"city\": \"Chicago\", \"number\": 4})\n",
        "response = model.invoke(prompt)\n",
        "\n",
        "response.content"
      ],
      "metadata": {
        "colab": {
          "base_uri": "https://localhost:8080/",
          "height": 105
        },
        "id": "bCGha--Ww4T-",
        "outputId": "d2f75c86-533b-498f-ab47-44da94fe8fd8"
      },
      "execution_count": null,
      "outputs": [
        {
          "output_type": "execute_result",
          "data": {
            "text/plain": [
              "'Certainly! Here are four popular tourist locations in Chicago:\\n\\n1. **Millennium Park**: Known for its iconic Cloud Gate sculpture, often referred to as \"The Bean,\" Millennium Park is a must-visit for its beautiful gardens, art installations, and outdoor concerts.\\n\\n2. **The Art Institute of Chicago**: This world-renowned museum boasts an impressive collection of art from around the globe, including famous works like Grant Wood\\'s \"American Gothic\" and Georges Seurat\\'s \"A Sunday on La Grande Jatte.\"\\n\\n3. **Navy Pier**: A lively destination along Lake Michigan, Navy Pier offers entertainment options, dining, boat tours, and attractions like the Centennial Wheel, providing stunning views of the city skyline.\\n\\n4. **Willis Tower Skydeck**: Formerly known as the Sears Tower, Willis Tower features the Skydeck on the 103rd floor, where visitors can step out onto \"The Ledge,\" a glass balcony extending outside the building, offering breathtaking views of Chicago.\\n\\nThese locations provide a mix of cultural, historical, and entertainment experiences that capture the essence of Chicago.'"
            ],
            "application/vnd.google.colaboratory.intrinsic+json": {
              "type": "string"
            }
          },
          "metadata": {},
          "execution_count": 6
        }
      ]
    },
    {
      "cell_type": "markdown",
      "source": [
        "# Structured output"
      ],
      "metadata": {
        "id": "Zo2EBF9L2012"
      }
    },
    {
      "cell_type": "code",
      "source": [
        "from langchain_openai import ChatOpenAI\n",
        "from pydantic import BaseModel, Field\n",
        "from langchain_core.prompts import PromptTemplate\n",
        "\n",
        "class Location(BaseModel):\n",
        "    name: str = Field(description=\"Name of the location to visit\")\n",
        "    description: str = Field(description=\"Brief description of the location\")\n",
        "    time_to_be_spent: str = Field(description=\"Time I should spent\")\n",
        "\n",
        "class LocationsList(BaseModel):\n",
        "    locations: list[Location] = Field(description=\"List of locations\")\n",
        "\n",
        "# LLM\n",
        "model = ChatOpenAI(model=\"gpt-4o\").with_structured_output(\n",
        "    LocationsList\n",
        ")\n",
        "\n",
        "\n",
        "prompt_template=PromptTemplate(template=\"Give me {number} tourist locations in {city}\")\n",
        "prompt=prompt_template.invoke({\"city\": \"Chicago\", \"number\": 7})\n",
        "\n",
        "response=model.invoke(prompt)\n",
        "response.model_dump()[\"locations\"]"
      ],
      "metadata": {
        "id": "irCMEYOC2Axb",
        "colab": {
          "base_uri": "https://localhost:8080/"
        },
        "outputId": "b6d87774-4774-4b57-f0b6-bd6f26b56376"
      },
      "execution_count": null,
      "outputs": [
        {
          "output_type": "execute_result",
          "data": {
            "text/plain": [
              "[{'name': 'Millennium Park',\n",
              "  'description': 'A famous public park known for its art installations, gardens, and the iconic Cloud Gate sculpture.',\n",
              "  'time_to_be_spent': '2-3 hours'},\n",
              " {'name': 'The Art Institute of Chicago',\n",
              "  'description': 'One of the oldest and largest art museums in the United States, featuring an extensive collection of artworks.',\n",
              "  'time_to_be_spent': '3-4 hours'},\n",
              " {'name': 'Navy Pier',\n",
              "  'description': 'A popular destination along Lake Michigan offering entertainment, dining, and attractions such as the Centennial Wheel.',\n",
              "  'time_to_be_spent': '3-4 hours'},\n",
              " {'name': 'Willis Tower Skydeck',\n",
              "  'description': 'An observation deck located on the 103rd floor of the Willis Tower, offering panoramic views of Chicago.',\n",
              "  'time_to_be_spent': '1-2 hours'},\n",
              " {'name': 'Shedd Aquarium',\n",
              "  'description': 'A large indoor public aquarium with a diverse range of marine life exhibits.',\n",
              "  'time_to_be_spent': '2-3 hours'},\n",
              " {'name': 'Field Museum',\n",
              "  'description': 'A natural history museum known for its extensive scientific specimens and exhibits, including Sue the T. rex.',\n",
              "  'time_to_be_spent': '2-3 hours'},\n",
              " {'name': 'Lincoln Park Zoo',\n",
              "  'description': 'A free zoo located in Lincoln Park, home to a wide variety of animals and habitats.',\n",
              "  'time_to_be_spent': '2-3 hours'}]"
            ]
          },
          "metadata": {},
          "execution_count": 9
        }
      ]
    },
    {
      "cell_type": "markdown",
      "source": [
        "# Structured output with LCEL"
      ],
      "metadata": {
        "id": "Uw2AHRXmJzsE"
      }
    },
    {
      "cell_type": "code",
      "source": [
        "from langchain_core.prompts import PromptTemplate\n",
        "from langchain_openai import ChatOpenAI\n",
        "from pydantic import BaseModel, Field\n",
        "from langchain_core.output_parsers import JsonOutputParser\n",
        "\n",
        "class Locations(BaseModel):\n",
        "    name: str = Field(description=\"Name of the location to visit\")\n",
        "    description: str = Field(description=\"Brief description of the location\")\n",
        "    time_to_be_spent: str = Field(description=\"Time I should spent\")\n",
        "\n",
        "class LocationsList(BaseModel):\n",
        "    locations: list[Locations] = Field(description=\"List of locations\")\n",
        "\n",
        "# LLM\n",
        "model = ChatOpenAI(model=\"gpt-4o\")\n",
        "\n",
        "parser = JsonOutputParser(pydantic_object=LocationsList)\n",
        "\n",
        "prompt_template = PromptTemplate(template=\"Give me a list of {number} tourist locations in {city}\\n{format_instructions}\",\n",
        "                                 input_variables=[\"number\",\"city\"],\n",
        "                                 partial_variables={\"format_instructions\": parser.get_format_instructions()})\n",
        "\n",
        "chain = prompt_template | model | parser\n",
        "\n",
        "\n",
        "response = chain.invoke({\"number\": 7, \"city\": \"Chicago\"})\n",
        "\n",
        "response"
      ],
      "metadata": {
        "colab": {
          "base_uri": "https://localhost:8080/"
        },
        "id": "Mbc9XIo-08zm",
        "outputId": "18c5b7fc-bdcd-460c-a719-1610e401bb26"
      },
      "execution_count": null,
      "outputs": [
        {
          "output_type": "execute_result",
          "data": {
            "text/plain": [
              "{'locations': [{'name': 'Millennium Park',\n",
              "   'description': 'A famous civic center and art park known for the Cloud Gate sculpture.',\n",
              "   'time_to_be_spent': '2 hours'},\n",
              "  {'name': 'The Art Institute of Chicago',\n",
              "   'description': 'One of the oldest and largest art museums in the United States.',\n",
              "   'time_to_be_spent': '3 hours'},\n",
              "  {'name': 'Navy Pier',\n",
              "   'description': 'A popular tourist destination featuring shops, eateries, and a Ferris wheel.',\n",
              "   'time_to_be_spent': '2 hours'},\n",
              "  {'name': 'Willis Tower Skydeck',\n",
              "   'description': 'Offers a panoramic view of the city from the top of one of the tallest buildings in the world.',\n",
              "   'time_to_be_spent': '1 hour'},\n",
              "  {'name': 'The Field Museum',\n",
              "   'description': 'A natural history museum with extensive exhibits on fossils, cultures, and more.',\n",
              "   'time_to_be_spent': '3 hours'},\n",
              "  {'name': 'Shedd Aquarium',\n",
              "   'description': 'A large indoor public aquarium with a wide variety of aquatic animals.',\n",
              "   'time_to_be_spent': '2 hours'},\n",
              "  {'name': 'Lincoln Park Zoo',\n",
              "   'description': 'A free zoo located in Lincoln Park with a variety of animal exhibits.',\n",
              "   'time_to_be_spent': '2 hours'}]}"
            ]
          },
          "metadata": {},
          "execution_count": 25
        }
      ]
    },
    {
      "cell_type": "code",
      "source": [
        "parser.get_format_instructions()"
      ],
      "metadata": {
        "colab": {
          "base_uri": "https://localhost:8080/",
          "height": 122
        },
        "id": "0x9KL-zH6_h7",
        "outputId": "311fa09d-5854-47b0-8acf-08048e65e72d"
      },
      "execution_count": null,
      "outputs": [
        {
          "output_type": "execute_result",
          "data": {
            "text/plain": [
              "'The output should be formatted as a JSON instance that conforms to the JSON schema below.\\n\\nAs an example, for the schema {\"properties\": {\"foo\": {\"title\": \"Foo\", \"description\": \"a list of strings\", \"type\": \"array\", \"items\": {\"type\": \"string\"}}}, \"required\": [\"foo\"]}\\nthe object {\"foo\": [\"bar\", \"baz\"]} is a well-formatted instance of the schema. The object {\"properties\": {\"foo\": [\"bar\", \"baz\"]}} is not well-formatted.\\n\\nHere is the output schema:\\n```\\n{\"$defs\": {\"Locations\": {\"properties\": {\"name\": {\"description\": \"Name of the location to visit\", \"title\": \"Name\", \"type\": \"string\"}, \"description\": {\"description\": \"Brief description of the location\", \"title\": \"Description\", \"type\": \"string\"}, \"time_to_be_spent\": {\"description\": \"Time I should spent\", \"title\": \"Time To Be Spent\", \"type\": \"string\"}}, \"required\": [\"name\", \"description\", \"time_to_be_spent\"], \"title\": \"Locations\", \"type\": \"object\"}}, \"properties\": {\"locations\": {\"description\": \"List of locations\", \"items\": {\"$ref\": \"#/$defs/Locations\"}, \"title\": \"Locations\", \"type\": \"array\"}}, \"required\": [\"locations\"]}\\n```'"
            ],
            "application/vnd.google.colaboratory.intrinsic+json": {
              "type": "string"
            }
          },
          "metadata": {},
          "execution_count": 24
        }
      ]
    },
    {
      "cell_type": "markdown",
      "source": [
        "# Message objects, Output parser and LCEL"
      ],
      "metadata": {
        "id": "CvQG0tS8TsUK"
      }
    },
    {
      "cell_type": "code",
      "source": [
        "from langchain_core.prompts import ChatPromptTemplate\n",
        "from langchain_openai import ChatOpenAI\n",
        "from pydantic import BaseModel, Field\n",
        "from langchain_core.output_parsers import JsonOutputParser\n",
        "\n",
        "class Locations(BaseModel):\n",
        "    name: str = Field(description=\"Name of the location to visit\")\n",
        "    description: str = Field(description=\"Brief description of the location\")\n",
        "    time_to_be_spent: str = Field(description=\"Time I should spent\")\n",
        "\n",
        "class LocationsList(BaseModel):\n",
        "    locations: list[Locations] = Field(description=\"List of locations\")\n",
        "\n",
        "# LLM\n",
        "model = ChatOpenAI(model=\"gpt-4o\")"
      ],
      "metadata": {
        "id": "RqRGDNPnTrDL"
      },
      "execution_count": null,
      "outputs": []
    },
    {
      "cell_type": "code",
      "source": [
        "system_template = \"\"\"You are a travel agent. You operate in {region} only.\n",
        "    Help in best possible way, but say sorry and no to anyone who asks for help outside the area you operate. \\n{format_instructions}\"\"\"\n",
        "user_template = \"Plan a {days} day trip to {city}\"\n",
        "\n",
        "prompt_template = ChatPromptTemplate.from_messages(\n",
        "    [(\"system\", system_template), (\"user\", user_template)],\n",
        ")\n",
        "\n",
        "parser = JsonOutputParser(pydantic_object=LocationsList)\n",
        "chain = prompt_template | model | parser\n",
        "\n",
        "\n",
        "response = chain.invoke({\"region\": \"Middle East\", \"days\": 5, \"city\": \"Dubai\", \"format_instructions\": parser.get_format_instructions()})\n",
        "\n",
        "response[\"locations\"]"
      ],
      "metadata": {
        "colab": {
          "base_uri": "https://localhost:8080/"
        },
        "outputId": "a42bcc83-bec3-49d2-9e63-bee8ef61b342",
        "id": "zRPfke8ITrDM"
      },
      "execution_count": null,
      "outputs": [
        {
          "output_type": "execute_result",
          "data": {
            "text/plain": [
              "[{'name': 'Burj Khalifa',\n",
              "  'description': \"Visit the world's tallest building and enjoy panoramic views of the city.\",\n",
              "  'time_to_be_spent': '2-3 hours'},\n",
              " {'name': 'Dubai Mall',\n",
              "  'description': \"Explore one of the world's largest shopping malls with an aquarium and ice rink.\",\n",
              "  'time_to_be_spent': '4-5 hours'},\n",
              " {'name': 'Dubai Marina',\n",
              "  'description': 'Enjoy a walk along the Marina, dine at restaurants, and take a boat tour.',\n",
              "  'time_to_be_spent': '3-4 hours'},\n",
              " {'name': 'Jumeirah Beach',\n",
              "  'description': 'Relax on the white sands and enjoy the view of the Burj Al Arab.',\n",
              "  'time_to_be_spent': '3-4 hours'},\n",
              " {'name': 'Desert Safari',\n",
              "  'description': 'Experience dune bashing, camel riding, and a traditional Bedouin camp dinner.',\n",
              "  'time_to_be_spent': '6-7 hours'},\n",
              " {'name': 'Dubai Creek',\n",
              "  'description': 'Take an abra ride along the creek and explore the traditional souks.',\n",
              "  'time_to_be_spent': '3-4 hours'},\n",
              " {'name': 'The Dubai Fountain',\n",
              "  'description': 'Watch the spectacular water show set to music outside the Dubai Mall.',\n",
              "  'time_to_be_spent': '1 hour'},\n",
              " {'name': 'Palm Jumeirah',\n",
              "  'description': 'Visit the iconic man-made island and explore Atlantis, The Palm.',\n",
              "  'time_to_be_spent': '4-5 hours'},\n",
              " {'name': 'Global Village',\n",
              "  'description': 'Explore pavilions from different countries offering food, shopping, and entertainment.',\n",
              "  'time_to_be_spent': '3-4 hours'},\n",
              " {'name': 'Dubai Opera',\n",
              "  'description': 'Attend a performance at the iconic dhow-shaped building.',\n",
              "  'time_to_be_spent': '2-3 hours'}]"
            ]
          },
          "metadata": {},
          "execution_count": 30
        }
      ]
    },
    {
      "cell_type": "markdown",
      "source": [
        "# Classification problem"
      ],
      "metadata": {
        "id": "OQBx0q26Eas5"
      }
    },
    {
      "cell_type": "markdown",
      "source": [
        "## Sentiment analysis"
      ],
      "metadata": {
        "id": "ckLhg-Z7GLvD"
      }
    },
    {
      "cell_type": "code",
      "source": [
        "from langchain_core.prompts import ChatPromptTemplate\n",
        "from langchain_openai import ChatOpenAI\n",
        "from pydantic import BaseModel, Field\n",
        "from langchain_core.output_parsers import JsonOutputParser\n",
        "\n",
        "\n",
        "# LLM\n",
        "model = ChatOpenAI(temperature=0, model=\"gpt-4o\")\n",
        "\n",
        "tagging_prompt = ChatPromptTemplate.from_template(\n",
        "    \"\"\"\n",
        "Extract the desired information from the following passage.\n",
        "\n",
        "Only extract the properties mentioned in the 'Classification' function.\n",
        "\n",
        "Passage:\n",
        "{input}\\n{format_instructions}\n",
        "\"\"\"\n",
        ")\n",
        "\n",
        "\n",
        "class Classification(BaseModel):\n",
        "    sentiment: str = Field(description=\"The sentiment of the text\", enum=[\"happy\", \"negative\", \"neutral\"])\n",
        "    aggressiveness: int = Field(\n",
        "        description=\"How aggressive the text is? higher the number, more aggressive it is.\"\n",
        "        , enum=[1,2,3,4,5]\n",
        "    )\n",
        "    language: str = Field(description=\"The language the text is written in\", enum=[\"Hindi\", \"English\", \"French\", \"Unknown\"])\n",
        "\n",
        "parser = JsonOutputParser(pydantic_object=Classification)\n",
        "\n",
        "chain = tagging_prompt | model | parser"
      ],
      "metadata": {
        "id": "dQ3pXSMqGLvE"
      },
      "execution_count": null,
      "outputs": []
    },
    {
      "cell_type": "code",
      "source": [
        "response = chain.invoke({\"input\": \"你是個白痴。我不喜歡你。\", \"format_instructions\": parser.get_format_instructions()})\n",
        "response"
      ],
      "metadata": {
        "colab": {
          "base_uri": "https://localhost:8080/"
        },
        "id": "7Axwam8jaiNz",
        "outputId": "6e57d2c4-ebf4-4a56-92f3-d9fc7f95c7dd"
      },
      "execution_count": null,
      "outputs": [
        {
          "output_type": "execute_result",
          "data": {
            "text/plain": [
              "{'sentiment': 'negative', 'aggressiveness': 4, 'language': 'Unknown'}"
            ]
          },
          "metadata": {},
          "execution_count": 55
        }
      ]
    }
  ]
}